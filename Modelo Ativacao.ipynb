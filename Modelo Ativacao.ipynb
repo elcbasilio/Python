{
 "cells": [
  {
   "cell_type": "markdown",
   "metadata": {},
   "source": [
    "Importando bibliotecas python"
   ]
  },
  {
   "cell_type": "code",
   "execution_count": 1,
   "metadata": {},
   "outputs": [],
   "source": [
    "from datetime import datetime, date\n",
    "import pandas as pd\n",
    "import numpy as np\n",
    "from sklearn.model_selection import train_test_split"
   ]
  },
  {
   "cell_type": "markdown",
   "metadata": {},
   "source": [
    "O intuito é que mensalmente o modelo seja rodado para que os pesos e variáveis sejam ajustadas, logo, é como se mensalmente tivéssemos um novo modelo que se ajusta às informações mais recentes"
   ]
  },
  {
   "cell_type": "markdown",
   "metadata": {},
   "source": [
    "Leitura dos arquivos de pedidos, filial, pessoas e produtos"
   ]
  },
  {
   "cell_type": "code",
   "execution_count": 2,
   "metadata": {},
   "outputs": [],
   "source": [
    "pedidos = pd.concat ([pd.read_csv ('Pedidos_2016.csv', encoding = 'utf_8'),pd.read_csv ('Pedidos_2017.csv', encoding = 'utf_8'),pd.read_csv ('Pedidos_2018.csv', encoding = 'utf_8'),pd.read_csv ('Pedidos_2019.csv', encoding = 'utf_8'),pd.read_csv ('Pedidos_2020.csv', encoding = 'utf_8')],ignore_index=True)\n",
    "filial = pd.read_csv ('FILIAL.csv', encoding = 'utf_8',sep=';',usecols = {'CD_FIL','SG_FIL','NM_FIL','DT_INAUGURACAO','DT_ENCERRAMENTO','SG_ESTADO','NM_CIDADE','REGIAO','SG_PORT'})\n",
    "pessoas = pd.read_csv ('Pessoas.csv', encoding = 'utf_8', usecols = {'PK_ID_PESSOA','IN_SEXO','DT_CAD','DS_SEGMENTO','TIPO_LOJA'})\n",
    "produtos = pd.read_csv ('PRODUTOS.csv', encoding = 'utf_8',sep=';')"
   ]
  },
  {
   "cell_type": "markdown",
   "metadata": {},
   "source": [
    "Alterando DATA_PEDIDO, DT_INAUGURACAO e DT_CAD para o formato data"
   ]
  },
  {
   "cell_type": "code",
   "execution_count": 3,
   "metadata": {},
   "outputs": [],
   "source": [
    "pedidos['DATA_PEDIDO'] = pd.to_datetime(pedidos['DATA_PEDIDO'])\n",
    "pessoas['DT_CAD'] = pd.to_datetime(pessoas['DT_CAD'])\n",
    "filial['DT_INAUGURACAO'] = pd.to_datetime(filial['DT_INAUGURACAO'])"
   ]
  },
  {
   "cell_type": "markdown",
   "metadata": {},
   "source": [
    "Excluindo filiais encerradas (não impacta na quantidade de pedidos e volume gasto)"
   ]
  },
  {
   "cell_type": "code",
   "execution_count": 4,
   "metadata": {},
   "outputs": [],
   "source": [
    "filial = filial.loc[(filial['NM_FIL'] != 'Encerrada')]"
   ]
  },
  {
   "cell_type": "markdown",
   "metadata": {},
   "source": [
    "Entrando com ano e mes de referencia para modelagem (ultimo mes fechado)"
   ]
  },
  {
   "cell_type": "code",
   "execution_count": 5,
   "metadata": {},
   "outputs": [],
   "source": [
    "if datetime.now().month == 1:\n",
    "    mes_ref = 12\n",
    "    ano_ref = datetime.now().year-1\n",
    "else:\n",
    "    mes_ref = datetime.now().month-1\n",
    "    ano_ref = datetime.now().year"
   ]
  },
  {
   "cell_type": "markdown",
   "metadata": {},
   "source": [
    "Criando meses de referencia (são os 48meses que serão utilizados na modelagem)"
   ]
  },
  {
   "cell_type": "code",
   "execution_count": 6,
   "metadata": {},
   "outputs": [],
   "source": [
    "d = date (ano_ref,mes_ref,1)\n",
    "pedidos['d'] = date (ano_ref,mes_ref,1)\n",
    "filial ['d'] = date (ano_ref,mes_ref,1)\n",
    "pessoas['d'] = date (ano_ref,mes_ref,1)\n",
    "\n",
    "d48 = date (d.year-4,d.month,1)\n",
    "pedidos['d48'] = d48\n",
    "\n",
    "d36 = date (d.year-3,d.month,1)\n",
    "pedidos['d36'] = d36\n",
    "\n",
    "d24 = date (d.year-2,d.month,1)\n",
    "pedidos['d24'] = d24\n",
    "\n",
    "d12 = date (d.year-1,d.month,1)\n",
    "pedidos['d12'] = d12\n",
    "\n",
    "if d12.month == 12:\n",
    "    d11 = date (d12.year+1,1,1)\n",
    "    pedidos['d11'] = d11\n",
    "else:\n",
    "    d11 = date (d12.year,d12.month+1,1)\n",
    "    pedidos['d11'] = d11\n",
    "    \n",
    "if d11.month == 12:\n",
    "    d10 = date (d11.year+1,1,1)\n",
    "    pedidos['d10'] = d10\n",
    "else:\n",
    "    d10 = date (d11.year,d11.month+1,1)\n",
    "    pedidos['d10'] = d10\n",
    "    \n",
    "if d10.month == 12:\n",
    "    d09 = date (d10.year+1,1,1)\n",
    "    pedidos['d09'] = d09\n",
    "else:\n",
    "    d09 = date (d10.year,d10.month+1,1)\n",
    "    pedidos['d09'] = d09\n",
    "    \n",
    "if d09.month == 12:\n",
    "    d08 = date (d09.year+1,1,1)\n",
    "    pedidos['d08'] = d08\n",
    "else:\n",
    "    d08 = date (d09.year,d09.month+1,1)\n",
    "    pedidos['d08'] = d08\n",
    "    \n",
    "if d08.month == 12:\n",
    "    d07 = date (d08.year+1,1,1)\n",
    "    pedidos['d07'] = d07\n",
    "else:\n",
    "    d07 = date (d08.year,d08.month+1,1)\n",
    "    pedidos['d07'] = d07\n",
    "    \n",
    "if d07.month == 12:\n",
    "    d06 = date (d07.year+1,1,1)\n",
    "    pedidos['d06'] = d06\n",
    "else:\n",
    "    d06 = date (d07.year,d07.month+1,1)\n",
    "    pedidos['d06'] = d06\n",
    "    \n",
    "if d06.month == 12:\n",
    "    d05 = date (d06.year+1,1,1)\n",
    "    pedidos['d05'] = d05\n",
    "else:\n",
    "    d05 = date (d06.year,d06.month+1,1)\n",
    "    pedidos['d05'] = d05\n",
    "    \n",
    "if d05.month == 12:\n",
    "    d04 = date (d05.year+1,1,1)\n",
    "    pedidos['d04'] = d04\n",
    "else:\n",
    "    d04 = date (d05.year,d05.month+1,1)\n",
    "    pedidos['d04'] = d04\n",
    "    \n",
    "if d04.month == 12:\n",
    "    d03 = date (d04.year+1,1,1)\n",
    "    pedidos['d03'] = d03\n",
    "else:\n",
    "    d03 = date (d04.year,d04.month+1,1)\n",
    "    pedidos['d03'] = d03\n",
    "    \n",
    "if d03.month == 12:\n",
    "    d02 = date (d03.year+1,1,1)\n",
    "    pedidos['d02'] = d02\n",
    "else:\n",
    "    d02 = date (d03.year,d03.month+1,1)\n",
    "    pedidos['d02'] = d02\n",
    "    \n",
    "if d02.month == 12:\n",
    "    d01 = date (d02.year+1,1,1)\n",
    "    pedidos['d01'] = d01\n",
    "else:\n",
    "    d01 = date (d02.year,d02.month+1,1)\n",
    "    pedidos['d01'] = d01"
   ]
  },
  {
   "cell_type": "code",
   "execution_count": null,
   "metadata": {},
   "outputs": [],
   "source": [
    "# acrescentando datas de referencia para criação de variáveis nos bancos de dados"
   ]
  },
  {
   "cell_type": "code",
   "execution_count": 7,
   "metadata": {},
   "outputs": [],
   "source": [
    "pedidos['d'] = pd.to_datetime(pedidos['d'])\n",
    "filial['d'] = pd.to_datetime(filial['d'])\n",
    "pessoas['d'] = pd.to_datetime(pessoas['d'])\n",
    "pedidos['d01'] = pd.to_datetime(pedidos['d01'])\n",
    "pedidos['d02'] = pd.to_datetime(pedidos['d02'])\n",
    "pedidos['d03'] = pd.to_datetime(pedidos['d03'])\n",
    "pedidos['d04'] = pd.to_datetime(pedidos['d04'])\n",
    "pedidos['d05'] = pd.to_datetime(pedidos['d05'])\n",
    "pedidos['d06'] = pd.to_datetime(pedidos['d06'])\n",
    "pedidos['d07'] = pd.to_datetime(pedidos['d07'])\n",
    "pedidos['d08'] = pd.to_datetime(pedidos['d08'])\n",
    "pedidos['d09'] = pd.to_datetime(pedidos['d09'])\n",
    "pedidos['d10'] = pd.to_datetime(pedidos['d10'])\n",
    "pedidos['d11'] = pd.to_datetime(pedidos['d11'])\n",
    "pedidos['d12'] = pd.to_datetime(pedidos['d12'])\n",
    "pedidos['d24'] = pd.to_datetime(pedidos['d24'])\n",
    "pedidos['d36'] = pd.to_datetime(pedidos['d36'])\n",
    "pedidos['d48'] = pd.to_datetime(pedidos['d48'])"
   ]
  },
  {
   "cell_type": "code",
   "execution_count": 8,
   "metadata": {},
   "outputs": [],
   "source": [
    "del d01,d02,d03,d04,d05,d06,d07,d08,d09,d10,d11,d12,d24,d36,d48"
   ]
  },
  {
   "cell_type": "markdown",
   "metadata": {},
   "source": [
    "excluindo filiais que foram inauguradas após o período inicial de análise (não impacta em quantidade de pedidos e volume gasto)"
   ]
  },
  {
   "cell_type": "code",
   "execution_count": 9,
   "metadata": {},
   "outputs": [],
   "source": [
    "filial = filial.loc[(filial['DT_INAUGURACAO'] < filial['d'])]\n",
    "filial.drop(columns = {'d'}, inplace = True)"
   ]
  },
  {
   "cell_type": "markdown",
   "metadata": {},
   "source": [
    "### Seleção de Elegíveis para Modelagem, ou seja, todas as pessoas que compraram nos últimos 12 meses, exceto no mês de referência"
   ]
  },
  {
   "cell_type": "code",
   "execution_count": 10,
   "metadata": {},
   "outputs": [],
   "source": [
    "elegiveis = pedidos.loc[(pedidos['DATA_PEDIDO'] >= pedidos['d12']) & (pedidos['DATA_PEDIDO'] < pedidos['d']) & (pedidos['VALOR'] > 0) & (pedidos['SG_FIL'] != 'SLD')]"
   ]
  },
  {
   "cell_type": "markdown",
   "metadata": {},
   "source": [
    "Criando variáveis 30, 60, 90, 120, 150, 180, 270, 360 dias - valor comprado e quantidade de pedidos"
   ]
  },
  {
   "cell_type": "markdown",
   "metadata": {},
   "source": [
    "--> 30 DIAS"
   ]
  },
  {
   "cell_type": "code",
   "execution_count": 11,
   "metadata": {},
   "outputs": [],
   "source": [
    "var_30dias = elegiveis.loc[(elegiveis['DATA_PEDIDO'] >= elegiveis['d01']) & (elegiveis['DATA_PEDIDO'] < elegiveis['d']) & (elegiveis['VALOR'] > 0)]\n",
    "var_30dias = var_30dias.drop (columns = {'PK_DOC','NK_ID_PROD','CD_FIL','SG_FIL','NM_DIV','CD_DIV','CD_GEP','CD_FAM','DATA_PEDIDO','d','d48','d36','d24','d12','d11','d10','d09','d08','d07','d06','d05','d04','d03','d02','d01'})\n",
    "var_30dias_valor = var_30dias.groupby(['PK_ID_PESSOA'], as_index=False)['VALOR'].sum()\n",
    "var_30dias_valor.rename(columns = {'VALOR': 'VALOR_30D'}, inplace = True)\n",
    "var_30dias_pedidos = var_30dias.groupby(['PK_ID_PESSOA','ID_PEDIDO_GERADO'], as_index=False)['VALOR'].count()\n",
    "var_30dias_pedidos = var_30dias_pedidos.groupby(['PK_ID_PESSOA'], as_index=False)['ID_PEDIDO_GERADO'].count()\n",
    "var_30dias_pedidos.rename(columns = {'ID_PEDIDO_GERADO': 'QTDE_PEDIDOS_30D'}, inplace = True)\n",
    "var_30dias_itens = var_30dias.groupby(['PK_ID_PESSOA'], as_index=False)['ID_PEDIDO_GERADO'].count()\n",
    "var_30dias_itens.rename(columns = {'ID_PEDIDO_GERADO': 'QTDE_ITENS_30D'}, inplace = True)"
   ]
  },
  {
   "cell_type": "markdown",
   "metadata": {},
   "source": [
    "--> 60 DIAS"
   ]
  },
  {
   "cell_type": "code",
   "execution_count": 12,
   "metadata": {},
   "outputs": [],
   "source": [
    "var_60dias = elegiveis.loc[(elegiveis['DATA_PEDIDO'] >= elegiveis['d02']) & (elegiveis['DATA_PEDIDO'] < elegiveis['d']) & (elegiveis['VALOR'] > 0)]\n",
    "var_60dias = var_60dias.drop (columns = {'PK_DOC','NK_ID_PROD','CD_FIL','SG_FIL','NM_DIV','CD_DIV','CD_GEP','CD_FAM','DATA_PEDIDO','d','d48','d36','d24','d12','d11','d10','d09','d08','d07','d06','d05','d04','d03','d02','d01'})\n",
    "var_60dias_valor = var_60dias.groupby(['PK_ID_PESSOA'], as_index=False)['VALOR'].sum()\n",
    "var_60dias_valor.rename(columns = {'VALOR': 'VALOR_60D'}, inplace = True)\n",
    "var_60dias_pedidos = var_60dias.groupby(['PK_ID_PESSOA','ID_PEDIDO_GERADO'], as_index=False)['VALOR'].count()\n",
    "var_60dias_pedidos = var_60dias_pedidos.groupby(['PK_ID_PESSOA'], as_index=False)['ID_PEDIDO_GERADO'].count()\n",
    "var_60dias_pedidos.rename(columns = {'ID_PEDIDO_GERADO': 'QTDE_PEDIDOS_60D'}, inplace = True)\n",
    "var_60dias_itens = var_60dias.groupby(['PK_ID_PESSOA'], as_index=False)['ID_PEDIDO_GERADO'].count()\n",
    "var_60dias_itens.rename(columns = {'ID_PEDIDO_GERADO': 'QTDE_ITENS_60D'}, inplace = True)"
   ]
  },
  {
   "cell_type": "markdown",
   "metadata": {},
   "source": [
    "--> 90 DIAS"
   ]
  },
  {
   "cell_type": "code",
   "execution_count": 13,
   "metadata": {},
   "outputs": [],
   "source": [
    "var_90dias = elegiveis.loc[(elegiveis['DATA_PEDIDO'] >= elegiveis['d03']) & (elegiveis['DATA_PEDIDO'] < elegiveis['d']) & (elegiveis['VALOR'] > 0)]\n",
    "var_90dias = var_90dias.drop (columns = {'PK_DOC','NK_ID_PROD','CD_FIL','SG_FIL','NM_DIV','CD_DIV','CD_GEP','CD_FAM','DATA_PEDIDO','d','d48','d36','d24','d12','d11','d10','d09','d08','d07','d06','d05','d04','d03','d02','d01'})\n",
    "var_90dias_valor = var_90dias.groupby(['PK_ID_PESSOA'], as_index=False)['VALOR'].sum()\n",
    "var_90dias_valor.rename(columns = {'VALOR': 'VALOR_90D'}, inplace = True)\n",
    "var_90dias_pedidos = var_90dias.groupby(['PK_ID_PESSOA','ID_PEDIDO_GERADO'], as_index=False)['VALOR'].count()\n",
    "var_90dias_pedidos = var_90dias_pedidos.groupby(['PK_ID_PESSOA'], as_index=False)['ID_PEDIDO_GERADO'].count()\n",
    "var_90dias_pedidos.rename(columns = {'ID_PEDIDO_GERADO': 'QTDE_PEDIDOS_90D'}, inplace = True)\n",
    "var_90dias_itens = var_90dias.groupby(['PK_ID_PESSOA'], as_index=False)['ID_PEDIDO_GERADO'].count()\n",
    "var_90dias_itens.rename(columns = {'ID_PEDIDO_GERADO': 'QTDE_ITENS_90D'}, inplace = True)"
   ]
  },
  {
   "cell_type": "markdown",
   "metadata": {},
   "source": [
    "--> 120 DIAS"
   ]
  },
  {
   "cell_type": "code",
   "execution_count": 14,
   "metadata": {},
   "outputs": [],
   "source": [
    "var_120dias = elegiveis.loc[(elegiveis['DATA_PEDIDO'] >= elegiveis['d04']) & (elegiveis['DATA_PEDIDO'] < elegiveis['d']) & (elegiveis['VALOR'] > 0)]\n",
    "var_120dias = var_120dias.drop (columns = {'PK_DOC','NK_ID_PROD','CD_FIL','SG_FIL','NM_DIV','CD_DIV','CD_GEP','CD_FAM','DATA_PEDIDO','d','d48','d36','d24','d12','d11','d10','d09','d08','d07','d06','d05','d04','d03','d02','d01'})\n",
    "var_120dias_valor = var_120dias.groupby(['PK_ID_PESSOA'], as_index=False)['VALOR'].sum()\n",
    "var_120dias_valor.rename(columns = {'VALOR': 'VALOR_120D'}, inplace = True)\n",
    "var_120dias_pedidos = var_120dias.groupby(['PK_ID_PESSOA','ID_PEDIDO_GERADO'], as_index=False)['VALOR'].count()\n",
    "var_120dias_pedidos = var_120dias_pedidos.groupby(['PK_ID_PESSOA'], as_index=False)['ID_PEDIDO_GERADO'].count()\n",
    "var_120dias_pedidos.rename(columns = {'ID_PEDIDO_GERADO': 'QTDE_PEDIDOS_120D'}, inplace = True)\n",
    "var_120dias_itens = var_120dias.groupby(['PK_ID_PESSOA'], as_index=False)['ID_PEDIDO_GERADO'].count()\n",
    "var_120dias_itens.rename(columns = {'ID_PEDIDO_GERADO': 'QTDE_ITENS_120D'}, inplace = True)"
   ]
  },
  {
   "cell_type": "markdown",
   "metadata": {},
   "source": [
    "--> 150 DIAS"
   ]
  },
  {
   "cell_type": "code",
   "execution_count": 15,
   "metadata": {},
   "outputs": [],
   "source": [
    "var_150dias = elegiveis.loc[(elegiveis['DATA_PEDIDO'] >= elegiveis['d05']) & (elegiveis['DATA_PEDIDO'] < elegiveis['d']) & (elegiveis['VALOR'] > 0)]\n",
    "var_150dias = var_150dias.drop (columns = {'PK_DOC','NK_ID_PROD','CD_FIL','SG_FIL','NM_DIV','CD_DIV','CD_GEP','CD_FAM','DATA_PEDIDO','d','d48','d36','d24','d12','d11','d10','d09','d08','d07','d06','d05','d04','d03','d02','d01'})\n",
    "var_150dias_valor = var_150dias.groupby(['PK_ID_PESSOA'], as_index=False)['VALOR'].sum()\n",
    "var_150dias_valor.rename(columns = {'VALOR': 'VALOR_150D'}, inplace = True)\n",
    "var_150dias_pedidos = var_150dias.groupby(['PK_ID_PESSOA','ID_PEDIDO_GERADO'], as_index=False)['VALOR'].count()\n",
    "var_150dias_pedidos = var_150dias_pedidos.groupby(['PK_ID_PESSOA'], as_index=False)['ID_PEDIDO_GERADO'].count()\n",
    "var_150dias_pedidos.rename(columns = {'ID_PEDIDO_GERADO': 'QTDE_PEDIDOS_150D'}, inplace = True)\n",
    "var_150dias_itens = var_150dias.groupby(['PK_ID_PESSOA'], as_index=False)['ID_PEDIDO_GERADO'].count()\n",
    "var_150dias_itens.rename(columns = {'ID_PEDIDO_GERADO': 'QTDE_ITENS_150D'}, inplace = True)"
   ]
  },
  {
   "cell_type": "markdown",
   "metadata": {},
   "source": [
    "--> 180 DIAS"
   ]
  },
  {
   "cell_type": "code",
   "execution_count": 16,
   "metadata": {},
   "outputs": [],
   "source": [
    "var_180dias = elegiveis.loc[(elegiveis['DATA_PEDIDO'] >= elegiveis['d06']) & (elegiveis['DATA_PEDIDO'] < elegiveis['d']) & (elegiveis['VALOR'] > 0)]\n",
    "var_180dias = var_180dias.drop (columns = {'PK_DOC','NK_ID_PROD','CD_FIL','SG_FIL','NM_DIV','CD_DIV','CD_GEP','CD_FAM','DATA_PEDIDO','d','d48','d36','d24','d12','d11','d10','d09','d08','d07','d06','d05','d04','d03','d02','d01'})\n",
    "var_180dias_valor = var_180dias.groupby(['PK_ID_PESSOA'], as_index=False)['VALOR'].sum()\n",
    "var_180dias_valor.rename(columns = {'VALOR': 'VALOR_180D'}, inplace = True)\n",
    "var_180dias_pedidos = var_180dias.groupby(['PK_ID_PESSOA','ID_PEDIDO_GERADO'], as_index=False)['VALOR'].count()\n",
    "var_180dias_pedidos = var_180dias_pedidos.groupby(['PK_ID_PESSOA'], as_index=False)['ID_PEDIDO_GERADO'].count()\n",
    "var_180dias_pedidos.rename(columns = {'ID_PEDIDO_GERADO': 'QTDE_PEDIDOS_180D'}, inplace = True)\n",
    "var_180dias_itens = var_180dias.groupby(['PK_ID_PESSOA'], as_index=False)['ID_PEDIDO_GERADO'].count()\n",
    "var_180dias_itens.rename(columns = {'ID_PEDIDO_GERADO': 'QTDE_ITENS_180D'}, inplace = True)"
   ]
  },
  {
   "cell_type": "markdown",
   "metadata": {},
   "source": [
    "--> 270 DIAS"
   ]
  },
  {
   "cell_type": "code",
   "execution_count": 17,
   "metadata": {},
   "outputs": [],
   "source": [
    "var_270dias = elegiveis.loc[(elegiveis['DATA_PEDIDO'] >= elegiveis['d09']) & (elegiveis['DATA_PEDIDO'] < elegiveis['d']) & (elegiveis['VALOR'] > 0)]\n",
    "var_270dias = var_270dias.drop (columns = {'PK_DOC','NK_ID_PROD','CD_FIL','SG_FIL','NM_DIV','CD_DIV','CD_GEP','CD_FAM','DATA_PEDIDO','d','d48','d36','d24','d12','d11','d10','d09','d08','d07','d06','d05','d04','d03','d02','d01'})\n",
    "var_270dias_valor = var_270dias.groupby(['PK_ID_PESSOA'], as_index=False)['VALOR'].sum()\n",
    "var_270dias_valor.rename(columns = {'VALOR': 'VALOR_270D'}, inplace = True)\n",
    "var_270dias_pedidos = var_270dias.groupby(['PK_ID_PESSOA','ID_PEDIDO_GERADO'], as_index=False)['VALOR'].count()\n",
    "var_270dias_pedidos = var_270dias_pedidos.groupby(['PK_ID_PESSOA'], as_index=False)['ID_PEDIDO_GERADO'].count()\n",
    "var_270dias_pedidos.rename(columns = {'ID_PEDIDO_GERADO': 'QTDE_PEDIDOS_270D'}, inplace = True)\n",
    "var_270dias_itens = var_270dias.groupby(['PK_ID_PESSOA'], as_index=False)['ID_PEDIDO_GERADO'].count()\n",
    "var_270dias_itens.rename(columns = {'ID_PEDIDO_GERADO': 'QTDE_ITENS_270D'}, inplace = True)"
   ]
  },
  {
   "cell_type": "markdown",
   "metadata": {},
   "source": [
    "360 DIAS"
   ]
  },
  {
   "cell_type": "code",
   "execution_count": 18,
   "metadata": {},
   "outputs": [],
   "source": [
    "var_360dias = elegiveis.loc[(elegiveis['DATA_PEDIDO'] >= elegiveis['d12']) & (elegiveis['DATA_PEDIDO'] < elegiveis['d']) & (elegiveis['VALOR'] > 0)]\n",
    "var_360dias = var_360dias.drop (columns = {'PK_DOC','NK_ID_PROD','CD_FIL','SG_FIL','NM_DIV','CD_DIV','CD_GEP','CD_FAM','DATA_PEDIDO','d','d48','d36','d24','d12','d11','d10','d09','d08','d07','d06','d05','d04','d03','d02','d01'})\n",
    "var_360dias_valor = var_360dias.groupby(['PK_ID_PESSOA'], as_index=False)['VALOR'].sum()\n",
    "var_360dias_valor.rename(columns = {'VALOR': 'VALOR_360D'}, inplace = True)\n",
    "var_360dias_pedidos = var_360dias.groupby(['PK_ID_PESSOA','ID_PEDIDO_GERADO'], as_index=False)['VALOR'].count()\n",
    "var_360dias_pedidos = var_360dias_pedidos.groupby(['PK_ID_PESSOA'], as_index=False)['ID_PEDIDO_GERADO'].count()\n",
    "var_360dias_pedidos.rename(columns = {'ID_PEDIDO_GERADO': 'QTDE_PEDIDOS_360D'}, inplace = True)\n",
    "var_360dias_itens = var_360dias.groupby(['PK_ID_PESSOA'], as_index=False)['ID_PEDIDO_GERADO'].count()\n",
    "var_360dias_itens.rename(columns = {'ID_PEDIDO_GERADO': 'QTDE_ITENS_360D'}, inplace = True)"
   ]
  },
  {
   "cell_type": "markdown",
   "metadata": {},
   "source": [
    "720 dias"
   ]
  },
  {
   "cell_type": "code",
   "execution_count": 19,
   "metadata": {},
   "outputs": [],
   "source": [
    "var_720dias = elegiveis.loc[(elegiveis['DATA_PEDIDO'] >= elegiveis['d24']) & (elegiveis['DATA_PEDIDO'] < elegiveis['d']) & (elegiveis['VALOR'] > 0)]\n",
    "var_720dias = var_720dias.drop (columns = {'PK_DOC','NK_ID_PROD','CD_FIL','SG_FIL','NM_DIV','CD_DIV','CD_GEP','CD_FAM','DATA_PEDIDO','d','d48','d36','d24','d12','d11','d10','d09','d08','d07','d06','d05','d04','d03','d02','d01'})\n",
    "var_720dias_valor = var_720dias.groupby(['PK_ID_PESSOA'], as_index=False)['VALOR'].sum()\n",
    "var_720dias_valor.rename(columns = {'VALOR': 'VALOR_720D'}, inplace = True)\n",
    "var_720dias_pedidos = var_720dias.groupby(['PK_ID_PESSOA','ID_PEDIDO_GERADO'], as_index=False)['VALOR'].count()\n",
    "var_720dias_pedidos = var_720dias_pedidos.groupby(['PK_ID_PESSOA'], as_index=False)['ID_PEDIDO_GERADO'].count()\n",
    "var_720dias_pedidos.rename(columns = {'ID_PEDIDO_GERADO': 'QTDE_PEDIDOS_720D'}, inplace = True)\n",
    "var_720dias_itens = var_720dias.groupby(['PK_ID_PESSOA'], as_index=False)['ID_PEDIDO_GERADO'].count()\n",
    "var_720dias_itens.rename(columns = {'ID_PEDIDO_GERADO': 'QTDE_ITENS_720D'}, inplace = True)"
   ]
  },
  {
   "cell_type": "markdown",
   "metadata": {},
   "source": [
    "3 anos"
   ]
  },
  {
   "cell_type": "code",
   "execution_count": 20,
   "metadata": {},
   "outputs": [],
   "source": [
    "var_1080dias = elegiveis.loc[(elegiveis['DATA_PEDIDO'] >= elegiveis['d36']) & (elegiveis['DATA_PEDIDO'] < elegiveis['d']) & (elegiveis['VALOR'] > 0)]\n",
    "var_1080dias = var_1080dias.drop (columns = {'PK_DOC','NK_ID_PROD','CD_FIL','SG_FIL','NM_DIV','CD_DIV','CD_GEP','CD_FAM','DATA_PEDIDO','d','d48','d36','d24','d12','d11','d10','d09','d08','d07','d06','d05','d04','d03','d02','d01'})\n",
    "var_1080dias_valor = var_1080dias.groupby(['PK_ID_PESSOA'], as_index=False)['VALOR'].sum()\n",
    "var_1080dias_valor.rename(columns = {'VALOR': 'VALOR_1080D'}, inplace = True)\n",
    "var_1080dias_pedidos = var_1080dias.groupby(['PK_ID_PESSOA','ID_PEDIDO_GERADO'], as_index=False)['VALOR'].count()\n",
    "var_1080dias_pedidos = var_1080dias_pedidos.groupby(['PK_ID_PESSOA'], as_index=False)['ID_PEDIDO_GERADO'].count()\n",
    "var_1080dias_pedidos.rename(columns = {'ID_PEDIDO_GERADO': 'QTDE_PEDIDOS_1080D'}, inplace = True)\n",
    "var_1080dias_itens = var_1080dias.groupby(['PK_ID_PESSOA'], as_index=False)['ID_PEDIDO_GERADO'].count()\n",
    "var_1080dias_itens.rename(columns = {'ID_PEDIDO_GERADO': 'QTDE_ITENS_1080D'}, inplace = True)"
   ]
  },
  {
   "cell_type": "markdown",
   "metadata": {},
   "source": [
    "4 anos"
   ]
  },
  {
   "cell_type": "code",
   "execution_count": 21,
   "metadata": {},
   "outputs": [],
   "source": [
    "var_1440dias = elegiveis.loc[(elegiveis['DATA_PEDIDO'] >= elegiveis['d48']) & (elegiveis['DATA_PEDIDO'] < elegiveis['d']) & (elegiveis['VALOR'] > 0)]\n",
    "var_1440dias = var_1440dias.drop (columns = {'PK_DOC','NK_ID_PROD','CD_FIL','SG_FIL','NM_DIV','CD_DIV','CD_GEP','CD_FAM','DATA_PEDIDO','d','d48','d36','d24','d12','d11','d10','d09','d08','d07','d06','d05','d04','d03','d02','d01'})\n",
    "var_1440dias_valor = var_1440dias.groupby(['PK_ID_PESSOA'], as_index=False)['VALOR'].sum()\n",
    "var_1440dias_valor.rename(columns = {'VALOR': 'VALOR_1440D'}, inplace = True)\n",
    "var_1440dias_pedidos = var_1440dias.groupby(['PK_ID_PESSOA','ID_PEDIDO_GERADO'], as_index=False)['VALOR'].count()\n",
    "var_1440dias_pedidos = var_1440dias_pedidos.groupby(['PK_ID_PESSOA'], as_index=False)['ID_PEDIDO_GERADO'].count()\n",
    "var_1440dias_pedidos.rename(columns = {'ID_PEDIDO_GERADO': 'QTDE_PEDIDOS_1440D'}, inplace = True)\n",
    "var_1440dias_itens = var_1440dias.groupby(['PK_ID_PESSOA'], as_index=False)['ID_PEDIDO_GERADO'].count()\n",
    "var_1440dias_itens.rename(columns = {'ID_PEDIDO_GERADO': 'QTDE_ITENS_1440D'}, inplace = True)"
   ]
  },
  {
   "cell_type": "code",
   "execution_count": 22,
   "metadata": {},
   "outputs": [],
   "source": [
    "del var_30dias, var_60dias, var_90dias, var_120dias, var_150dias, var_180dias, var_270dias, var_360dias, var_720dias, var_1080dias, var_1440dias"
   ]
  },
  {
   "cell_type": "markdown",
   "metadata": {},
   "source": [
    "Acrescentando produtos e filial na base de elegiveis"
   ]
  },
  {
   "cell_type": "code",
   "execution_count": 23,
   "metadata": {},
   "outputs": [],
   "source": [
    "elegiveis = pd.merge(elegiveis, produtos, on = 'NK_ID_PROD', how = 'left', sort = True)\n",
    "elegiveis = pd.merge(elegiveis, filial, on = 'CD_FIL', how = 'left', sort = True)"
   ]
  },
  {
   "cell_type": "markdown",
   "metadata": {},
   "source": [
    "selecao de variáveis nominais para criação de dummies"
   ]
  },
  {
   "cell_type": "code",
   "execution_count": 24,
   "metadata": {},
   "outputs": [],
   "source": [
    "elegiveis_obj = elegiveis.drop(columns={'PK_DOC','ID_PEDIDO_GERADO','DATA_PEDIDO','VALOR','CD_FIL','NK_ID_PROD',\n",
    "                                         'CD_DIV_x','CD_GEP_x','CD_FAM_x','NM_PROD','CD_DIV_y','NM_DIV_y','CD_GEP_y',\n",
    "                                         'CD_FAM_y','NM_FAM','SG_FIL_x','NM_FIL','DT_INAUGURACAO','DT_ENCERRAMENTO', 'SG_ESTADO',\n",
    "                                         'd','d48','d36','d24','d12','d11','d10','d09','d08','d07','d06','d05','d04','d03','d02','d01'})"
   ]
  },
  {
   "cell_type": "markdown",
   "metadata": {},
   "source": [
    "renomeando variáveis"
   ]
  },
  {
   "cell_type": "code",
   "execution_count": 25,
   "metadata": {},
   "outputs": [],
   "source": [
    "elegiveis_obj.rename(columns = {'NM_DIV_x':'NM_DIV'}, inplace = True)\n",
    "elegiveis_obj.rename(columns = {'SG_FIL_y':'SG_FIL'}, inplace = True)"
   ]
  },
  {
   "cell_type": "markdown",
   "metadata": {},
   "source": [
    "criando dummies"
   ]
  },
  {
   "cell_type": "code",
   "execution_count": 26,
   "metadata": {},
   "outputs": [],
   "source": [
    "elegiveis_dummies1 = pd.get_dummies(data = elegiveis_obj,columns={'SG_PORT'})\n",
    "elegiveis_dummies2 = pd.get_dummies(data = elegiveis_obj,columns={'REGIAO'})\n",
    "elegiveis_dummies3 = pd.get_dummies(data = elegiveis_obj,columns={'SG_FIL'})\n",
    "elegiveis_dummies4 = pd.get_dummies(data = elegiveis_obj,columns={'DS_GEP'})\n",
    "elegiveis_dummies5 = pd.get_dummies(data = elegiveis_obj,columns={'NM_DIV'})"
   ]
  },
  {
   "cell_type": "markdown",
   "metadata": {},
   "source": [
    "criando dummies"
   ]
  },
  {
   "cell_type": "code",
   "execution_count": 27,
   "metadata": {},
   "outputs": [],
   "source": [
    "elegiveis_dummies1.drop(columns = {'NM_DIV','DS_GEP','SG_FIL','NM_CIDADE','REGIAO'}, inplace = True)"
   ]
  },
  {
   "cell_type": "code",
   "execution_count": 28,
   "metadata": {},
   "outputs": [],
   "source": [
    "elegiveis_dummies1 = elegiveis_dummies1.groupby(['PK_ID_PESSOA'], as_index=False).max()\n",
    "elegiveis_dummies1['TT_PORT'] = (elegiveis_dummies1.sum (axis=1) - elegiveis_dummies1['PK_ID_PESSOA'])"
   ]
  },
  {
   "cell_type": "code",
   "execution_count": 29,
   "metadata": {},
   "outputs": [],
   "source": [
    "elegiveis_dummies2.drop(columns = {'NM_DIV','DS_GEP','SG_FIL','NM_CIDADE','SG_PORT'}, inplace = True)"
   ]
  },
  {
   "cell_type": "code",
   "execution_count": 30,
   "metadata": {},
   "outputs": [],
   "source": [
    "elegiveis_dummies2 = elegiveis_dummies2.groupby(['PK_ID_PESSOA'], as_index=False).max()\n",
    "elegiveis_dummies2['TT_REGIOES'] = (elegiveis_dummies2.sum (axis=1) - elegiveis_dummies2['PK_ID_PESSOA'])"
   ]
  },
  {
   "cell_type": "code",
   "execution_count": 31,
   "metadata": {},
   "outputs": [],
   "source": [
    "elegiveis_dummies3.drop(columns = {'NM_DIV','DS_GEP','REGIAO','NM_CIDADE','SG_PORT'}, inplace = True)"
   ]
  },
  {
   "cell_type": "code",
   "execution_count": 32,
   "metadata": {},
   "outputs": [],
   "source": [
    "elegiveis_dummies3 = elegiveis_dummies3.groupby(['PK_ID_PESSOA'], as_index=False).max()\n",
    "elegiveis_dummies3['TT_FILIAIS'] = (elegiveis_dummies3.sum (axis=1) - elegiveis_dummies3['PK_ID_PESSOA'])"
   ]
  },
  {
   "cell_type": "code",
   "execution_count": 33,
   "metadata": {},
   "outputs": [],
   "source": [
    "elegiveis_dummies4.drop(columns = {'NM_DIV','SG_FIL','REGIAO','NM_CIDADE','SG_PORT'}, inplace = True)"
   ]
  },
  {
   "cell_type": "code",
   "execution_count": 34,
   "metadata": {},
   "outputs": [],
   "source": [
    "elegiveis_dummies4 = elegiveis_dummies4.groupby(['PK_ID_PESSOA'], as_index=False).max()\n",
    "elegiveis_dummies4['TT_GEP'] = (elegiveis_dummies4.sum (axis=1) - elegiveis_dummies4['PK_ID_PESSOA'])"
   ]
  },
  {
   "cell_type": "code",
   "execution_count": 35,
   "metadata": {},
   "outputs": [],
   "source": [
    "elegiveis_dummies5.drop(columns = {'DS_GEP','SG_FIL','REGIAO','NM_CIDADE','SG_PORT'}, inplace = True)"
   ]
  },
  {
   "cell_type": "code",
   "execution_count": 36,
   "metadata": {},
   "outputs": [],
   "source": [
    "elegiveis_dummies5 = elegiveis_dummies5.groupby(['PK_ID_PESSOA'], as_index=False).max()"
   ]
  },
  {
   "cell_type": "code",
   "execution_count": 37,
   "metadata": {},
   "outputs": [],
   "source": [
    "elegiveis_id = elegiveis[['PK_ID_PESSOA']].drop_duplicates().reset_index(drop=True)"
   ]
  },
  {
   "cell_type": "code",
   "execution_count": 38,
   "metadata": {},
   "outputs": [],
   "source": [
    "elegiveis_dummies = pd.merge(elegiveis_id, elegiveis_dummies1, on = 'PK_ID_PESSOA', how = 'left', sort = True)"
   ]
  },
  {
   "cell_type": "code",
   "execution_count": 39,
   "metadata": {},
   "outputs": [],
   "source": [
    "elegiveis_dummies = pd.merge(elegiveis_dummies, elegiveis_dummies2, on = 'PK_ID_PESSOA', how = 'left', sort = True)"
   ]
  },
  {
   "cell_type": "code",
   "execution_count": 40,
   "metadata": {},
   "outputs": [],
   "source": [
    "elegiveis_dummies = pd.merge(elegiveis_dummies, elegiveis_dummies3, on = 'PK_ID_PESSOA', how = 'left', sort = True)"
   ]
  },
  {
   "cell_type": "code",
   "execution_count": 41,
   "metadata": {},
   "outputs": [],
   "source": [
    "elegiveis_dummies = pd.merge(elegiveis_dummies, elegiveis_dummies4, on = 'PK_ID_PESSOA', how = 'left', sort = True)"
   ]
  },
  {
   "cell_type": "code",
   "execution_count": 42,
   "metadata": {},
   "outputs": [],
   "source": [
    "elegiveis_dummies = pd.merge(elegiveis_dummies, elegiveis_dummies5, on = 'PK_ID_PESSOA', how = 'left', sort = True)"
   ]
  },
  {
   "cell_type": "code",
   "execution_count": 43,
   "metadata": {},
   "outputs": [],
   "source": [
    "del elegiveis_dummies1,elegiveis_dummies2,elegiveis_dummies3,elegiveis_dummies4,elegiveis_dummies5"
   ]
  },
  {
   "cell_type": "markdown",
   "metadata": {},
   "source": [
    "merge da base de pessoas com os elegiveis"
   ]
  },
  {
   "cell_type": "code",
   "execution_count": 44,
   "metadata": {},
   "outputs": [],
   "source": [
    "pessoas = pd.merge(elegiveis_id, pessoas, on = 'PK_ID_PESSOA', how = 'left', sort = True)"
   ]
  },
  {
   "cell_type": "markdown",
   "metadata": {},
   "source": [
    "criando dummies das variaveis selecionadas"
   ]
  },
  {
   "cell_type": "code",
   "execution_count": 45,
   "metadata": {},
   "outputs": [],
   "source": [
    "pessoas_dummies = pd.get_dummies(data = pessoas,columns={'DS_SEGMENTO','TIPO_LOJA','IN_SEXO'})"
   ]
  },
  {
   "cell_type": "code",
   "execution_count": 46,
   "metadata": {},
   "outputs": [],
   "source": [
    "pessoas_dummies = pessoas_dummies.drop (columns = {'DT_CAD','d'})"
   ]
  },
  {
   "cell_type": "markdown",
   "metadata": {},
   "source": [
    "criando tempo de cadastro"
   ]
  },
  {
   "cell_type": "code",
   "execution_count": 47,
   "metadata": {},
   "outputs": [],
   "source": [
    "lista = ['DT_CAD','d']\n",
    "tp_cadastro = pessoas.groupby (['PK_ID_PESSOA'], as_index=False)[lista].min()\n",
    "tp_cadastro['TP_CADASTRO'] = abs (tp_cadastro['d'] - tp_cadastro['DT_CAD'])\n",
    "tp_cadastro = tp_cadastro.drop(columns = {'d','DT_CAD'})\n",
    "tp_cadastro.TP_CADASTRO = tp_cadastro.TP_CADASTRO.dt.days\n",
    "del lista"
   ]
  },
  {
   "cell_type": "markdown",
   "metadata": {},
   "source": [
    "Tempo da ultima compra"
   ]
  },
  {
   "cell_type": "code",
   "execution_count": 48,
   "metadata": {},
   "outputs": [],
   "source": [
    "lista = ['DATA_PEDIDO','d']\n",
    "ult_compra = elegiveis.groupby(['PK_ID_PESSOA'], as_index=False)[lista].max()\n",
    "ult_compra['TP_ULT_COMPRA'] = abs (ult_compra['d'] - ult_compra['DATA_PEDIDO'])\n",
    "ult_compra.drop(columns = {'d','DATA_PEDIDO'},inplace = True)\n",
    "del lista"
   ]
  },
  {
   "cell_type": "markdown",
   "metadata": {},
   "source": [
    "Construindo a variável resposta"
   ]
  },
  {
   "cell_type": "code",
   "execution_count": 49,
   "metadata": {},
   "outputs": [],
   "source": [
    "resposta = pedidos.loc[(pedidos['DATA_PEDIDO'] >= pedidos['d']) & (pedidos['VALOR'] > 0)]"
   ]
  },
  {
   "cell_type": "code",
   "execution_count": 50,
   "metadata": {},
   "outputs": [],
   "source": [
    "resposta = resposta[['PK_ID_PESSOA']].drop_duplicates().reset_index(drop=True)"
   ]
  },
  {
   "cell_type": "code",
   "execution_count": 51,
   "metadata": {},
   "outputs": [],
   "source": [
    "resposta['RESPOSTA'] = 1"
   ]
  },
  {
   "cell_type": "markdown",
   "metadata": {},
   "source": [
    "# Construindo a base final para modelagem (merge de todas as variáveis criadas)"
   ]
  },
  {
   "cell_type": "code",
   "execution_count": 52,
   "metadata": {},
   "outputs": [],
   "source": [
    "base_final = pd.merge(elegiveis_id, var_30dias_valor, on = 'PK_ID_PESSOA', how = 'left', sort = True)\n",
    "base_final = pd.merge(base_final, var_30dias_pedidos, on = 'PK_ID_PESSOA', how = 'left', sort = True)\n",
    "base_final = pd.merge(base_final, var_30dias_itens, on = 'PK_ID_PESSOA', how = 'left', sort = True)\n",
    "\n",
    "base_final = pd.merge(base_final, var_60dias_valor, on = 'PK_ID_PESSOA', how = 'left', sort = True)\n",
    "base_final = pd.merge(base_final, var_60dias_pedidos, on = 'PK_ID_PESSOA', how = 'left', sort = True)\n",
    "base_final = pd.merge(base_final, var_60dias_itens, on = 'PK_ID_PESSOA', how = 'left', sort = True)\n",
    "\n",
    "base_final = pd.merge(base_final, var_90dias_valor, on = 'PK_ID_PESSOA', how = 'left', sort = True)\n",
    "base_final = pd.merge(base_final, var_90dias_pedidos, on = 'PK_ID_PESSOA', how = 'left', sort = True)\n",
    "base_final = pd.merge(base_final, var_90dias_itens, on = 'PK_ID_PESSOA', how = 'left', sort = True)\n",
    "\n",
    "base_final = pd.merge(base_final, var_120dias_valor, on = 'PK_ID_PESSOA', how = 'left', sort = True)\n",
    "base_final = pd.merge(base_final, var_120dias_pedidos, on = 'PK_ID_PESSOA', how = 'left', sort = True)\n",
    "base_final = pd.merge(base_final, var_120dias_itens, on = 'PK_ID_PESSOA', how = 'left', sort = True)\n",
    "\n",
    "base_final = pd.merge(base_final, var_150dias_valor, on = 'PK_ID_PESSOA', how = 'left', sort = True)\n",
    "base_final = pd.merge(base_final, var_150dias_pedidos, on = 'PK_ID_PESSOA', how = 'left', sort = True)\n",
    "base_final = pd.merge(base_final, var_150dias_itens, on = 'PK_ID_PESSOA', how = 'left', sort = True)\n",
    "\n",
    "base_final = pd.merge(base_final, var_180dias_valor, on = 'PK_ID_PESSOA', how = 'left', sort = True)\n",
    "base_final = pd.merge(base_final, var_180dias_pedidos, on = 'PK_ID_PESSOA', how = 'left', sort = True)\n",
    "base_final = pd.merge(base_final, var_180dias_itens, on = 'PK_ID_PESSOA', how = 'left', sort = True)\n",
    "\n",
    "base_final = pd.merge(base_final, var_270dias_valor, on = 'PK_ID_PESSOA', how = 'left', sort = True)\n",
    "base_final = pd.merge(base_final, var_270dias_pedidos, on = 'PK_ID_PESSOA', how = 'left', sort = True)\n",
    "base_final = pd.merge(base_final, var_270dias_itens, on = 'PK_ID_PESSOA', how = 'left', sort = True)\n",
    "\n",
    "base_final = pd.merge(base_final, var_360dias_valor, on = 'PK_ID_PESSOA', how = 'left', sort = True)\n",
    "base_final = pd.merge(base_final, var_360dias_pedidos, on = 'PK_ID_PESSOA', how = 'left', sort = True)\n",
    "base_final = pd.merge(base_final, var_360dias_itens, on = 'PK_ID_PESSOA', how = 'left', sort = True)\n",
    "\n",
    "base_final = pd.merge(base_final, var_720dias_valor, on = 'PK_ID_PESSOA', how = 'left', sort = True)\n",
    "base_final = pd.merge(base_final, var_720dias_pedidos, on = 'PK_ID_PESSOA', how = 'left', sort = True)\n",
    "base_final = pd.merge(base_final, var_720dias_itens, on = 'PK_ID_PESSOA', how = 'left', sort = True)\n",
    "\n",
    "base_final = pd.merge(base_final, var_1080dias_valor, on = 'PK_ID_PESSOA', how = 'left', sort = True)\n",
    "base_final = pd.merge(base_final, var_1080dias_pedidos, on = 'PK_ID_PESSOA', how = 'left', sort = True)\n",
    "base_final = pd.merge(base_final, var_1080dias_itens, on = 'PK_ID_PESSOA', how = 'left', sort = True)\n",
    "\n",
    "base_final = pd.merge(base_final, var_1440dias_valor, on = 'PK_ID_PESSOA', how = 'left', sort = True)\n",
    "base_final = pd.merge(base_final, var_1440dias_pedidos, on = 'PK_ID_PESSOA', how = 'left', sort = True)\n",
    "base_final = pd.merge(base_final, var_1440dias_itens, on = 'PK_ID_PESSOA', how = 'left', sort = True)"
   ]
  },
  {
   "cell_type": "code",
   "execution_count": 53,
   "metadata": {},
   "outputs": [],
   "source": [
    "base_final = pd.merge(base_final, elegiveis_dummies, on = 'PK_ID_PESSOA', how = 'left', sort = True)"
   ]
  },
  {
   "cell_type": "code",
   "execution_count": 54,
   "metadata": {},
   "outputs": [],
   "source": [
    "base_final = pd.merge(base_final, pessoas_dummies, on = 'PK_ID_PESSOA', how = 'left', sort = True)"
   ]
  },
  {
   "cell_type": "code",
   "execution_count": 55,
   "metadata": {},
   "outputs": [],
   "source": [
    "base_final = base_final.replace (np.nan,0)"
   ]
  },
  {
   "cell_type": "code",
   "execution_count": 56,
   "metadata": {},
   "outputs": [],
   "source": [
    "base_final = pd.merge(base_final, ult_compra, on = 'PK_ID_PESSOA', how = 'left', sort = True)"
   ]
  },
  {
   "cell_type": "code",
   "execution_count": 57,
   "metadata": {},
   "outputs": [],
   "source": [
    "base_final.TP_ULT_COMPRA = base_final.TP_ULT_COMPRA.dt.days"
   ]
  },
  {
   "cell_type": "code",
   "execution_count": 58,
   "metadata": {},
   "outputs": [],
   "source": [
    "base_final = pd.merge(base_final, tp_cadastro, on = 'PK_ID_PESSOA', how = 'left', sort = True)"
   ]
  },
  {
   "cell_type": "code",
   "execution_count": 59,
   "metadata": {},
   "outputs": [],
   "source": [
    "base_final = pd.merge(base_final, resposta, on = 'PK_ID_PESSOA', how = 'left', sort = True)"
   ]
  },
  {
   "cell_type": "code",
   "execution_count": 60,
   "metadata": {},
   "outputs": [],
   "source": [
    "base_final['RESPOSTA'] = base_final['RESPOSTA'].fillna(0)"
   ]
  },
  {
   "cell_type": "code",
   "execution_count": 61,
   "metadata": {},
   "outputs": [
    {
     "name": "stdout",
     "output_type": "stream",
     "text": [
      "<class 'pandas.core.frame.DataFrame'>\n",
      "Int64Index: 1368180 entries, 0 to 1368179\n",
      "Columns: 166 entries, PK_ID_PESSOA to RESPOSTA\n",
      "dtypes: float64(27), int64(14), uint8(125)\n",
      "memory usage: 601.5 MB\n"
     ]
    }
   ],
   "source": [
    "base_final.info()"
   ]
  },
  {
   "cell_type": "code",
   "execution_count": 62,
   "metadata": {},
   "outputs": [],
   "source": [
    "base_final.dropna(inplace=True)"
   ]
  },
  {
   "cell_type": "markdown",
   "metadata": {},
   "source": [
    "#deletando variaveis para liberar memória"
   ]
  },
  {
   "cell_type": "code",
   "execution_count": 63,
   "metadata": {},
   "outputs": [],
   "source": [
    "del var_30dias_valor, var_30dias_pedidos, var_60dias_valor, var_60dias_pedidos\n",
    "del var_90dias_valor, var_90dias_pedidos, var_120dias_valor, var_120dias_pedidos\n",
    "del var_150dias_valor, var_150dias_pedidos, var_180dias_valor, var_180dias_pedidos\n",
    "del var_270dias_valor, var_270dias_pedidos, var_360dias_valor, var_360dias_pedidos\n",
    "del elegiveis_obj, pessoas_dummies, tp_cadastro, resposta, ult_compra\n",
    "del var_30dias_itens, var_60dias_itens, var_90dias_itens, var_120dias_itens, var_150dias_itens, var_180dias_itens \n",
    "del var_270dias_itens, var_360dias_itens"
   ]
  },
  {
   "cell_type": "code",
   "execution_count": 64,
   "metadata": {},
   "outputs": [],
   "source": [
    "del var_720dias_valor, var_720dias_pedidos, var_1080dias_valor, var_1080dias_pedidos, var_1440dias_valor, var_1440dias_pedidos\n",
    "del var_720dias_itens, var_1080dias_itens, var_1440dias_itens"
   ]
  },
  {
   "cell_type": "markdown",
   "metadata": {},
   "source": [
    "## Modelagem"
   ]
  },
  {
   "cell_type": "markdown",
   "metadata": {},
   "source": [
    "Selecionando amostragem"
   ]
  },
  {
   "cell_type": "code",
   "execution_count": 65,
   "metadata": {},
   "outputs": [],
   "source": [
    "resp0 = base_final.loc[(base_final['RESPOSTA'] == 0)]\n",
    "resp1 = base_final.loc[(base_final['RESPOSTA'] == 1)]\n",
    "resp1 = resp1.sample(n = 50000)\n",
    "tam_amostra = base_final['RESPOSTA'].value_counts()[1]\n",
    "resp0 = base_final.sample(tam_amostra)\n",
    "amostra_balanceada = pd.concat([resp0,resp1])"
   ]
  },
  {
   "cell_type": "markdown",
   "metadata": {},
   "source": [
    "#como a qtde de variáveis é muito grande utilizamos o código abaixo para selecionar apenas as melhores delas, ou seja, aquelas que estão mais correlacionadas com a variável resposta"
   ]
  },
  {
   "cell_type": "code",
   "execution_count": 66,
   "metadata": {},
   "outputs": [],
   "source": [
    "from sklearn.preprocessing import MinMaxScaler, StandardScaler, Normalizer\n",
    "from sklearn.feature_selection import mutual_info_classif, mutual_info_regression, SelectKBest, SelectPercentile"
   ]
  },
  {
   "cell_type": "code",
   "execution_count": 67,
   "metadata": {},
   "outputs": [],
   "source": [
    "numerics = ['float64', 'int64', 'uint8']\n",
    "numerical = list (amostra_balanceada.select_dtypes (include = numerics).columns)\n",
    "data = amostra_balanceada[numerical]"
   ]
  },
  {
   "cell_type": "code",
   "execution_count": 68,
   "metadata": {},
   "outputs": [],
   "source": [
    "X_train, X_test, y_train, y_test = train_test_split (data.drop(['PK_ID_PESSOA','RESPOSTA'], axis = 1), data['RESPOSTA'],\n",
    "                                                    test_size = 0.3, random_state = 0)"
   ]
  },
  {
   "cell_type": "code",
   "execution_count": 69,
   "metadata": {},
   "outputs": [],
   "source": [
    "import matplotlib.pyplot as plt\n",
    "mi = mutual_info_classif (X_train, y_train)\n",
    "mi = pd.Series(mi)\n",
    "mi.index = X_train.columns\n",
    "mi = mi.sort_values (ascending = False)"
   ]
  },
  {
   "cell_type": "code",
   "execution_count": 70,
   "metadata": {},
   "outputs": [
    {
     "data": {
      "image/png": "[encoded data removed]",
      "text/plain": [
       "<Figure size 1584x720 with 1 Axes>"
      ]
     },
     "metadata": {
      "needs_background": "light"
     },
     "output_type": "display_data"
    }
   ],
   "source": [
    "mi[0:len(mi[mi > 0.02])].plot.bar(figsize = (22,10))\n",
    "plt.show()"
   ]
  },
  {
   "cell_type": "code",
   "execution_count": 71,
   "metadata": {},
   "outputs": [],
   "source": [
    "sel_ = SelectKBest (mutual_info_classif, k = len(mi[mi > 0.02])).fit (X_train, y_train)\n",
    "lista = (X_train.columns [sel_.get_support()])"
   ]
  },
  {
   "cell_type": "code",
   "execution_count": 72,
   "metadata": {},
   "outputs": [],
   "source": [
    "predictors = pd.DataFrame(data = amostra_balanceada, columns = lista)\n",
    "target = amostra_balanceada[\"RESPOSTA\"]\n",
    "x_train, x_val, y_train, y_val = train_test_split(predictors, target, test_size = 0.3, random_state = 0)"
   ]
  },
  {
   "cell_type": "markdown",
   "metadata": {},
   "source": [
    "# Modelagem"
   ]
  },
  {
   "cell_type": "code",
   "execution_count": 73,
   "metadata": {},
   "outputs": [
    {
     "name": "stdout",
     "output_type": "stream",
     "text": [
      "67.91\n"
     ]
    }
   ],
   "source": [
    "# Decision Tree\n",
    "from sklearn.model_selection import GridSearchCV\n",
    "from sklearn.tree import DecisionTreeClassifier\n",
    "from sklearn.metrics import accuracy_score\n",
    "\n",
    "decisiontree = DecisionTreeClassifier()\n",
    "dt_grid = {'max_depth' : [7,8,9,10,11,12],\n",
    "           'criterion' : ['gini','entropy']}\n",
    "gs_dt = GridSearchCV(decisiontree, dt_grid)\n",
    "gs_dt.fit(x_train, y_train)\n",
    "best_model_dt = gs_dt.best_estimator_\n",
    "y_pred_dec = best_model_dt.predict(x_val)\n",
    "acc_decisiontree = round(accuracy_score(y_pred_dec, y_val) * 100, 2)\n",
    "y_pred_prob_dec = best_model_dt.predict_proba(x_val)    \n",
    "print(acc_decisiontree)"
   ]
  },
  {
   "cell_type": "code",
   "execution_count": 74,
   "metadata": {
    "scrolled": true
   },
   "outputs": [],
   "source": [
    "#pd.DataFrame(gs_dt.cv_results_).sort_values (by='rank_test_score').head(10)"
   ]
  },
  {
   "cell_type": "code",
   "execution_count": 75,
   "metadata": {},
   "outputs": [
    {
     "name": "stdout",
     "output_type": "stream",
     "text": [
      "Fitting 5 folds for each of 6 candidates, totalling 30 fits\n",
      "[CV] loss=deviance, max_depth=4, n_estimators=300 ....................\n"
     ]
    },
    {
     "name": "stderr",
     "output_type": "stream",
     "text": [
      "[Parallel(n_jobs=1)]: Using backend SequentialBackend with 1 concurrent workers.\n"
     ]
    },
    {
     "name": "stdout",
     "output_type": "stream",
     "text": [
      "[CV] ..... loss=deviance, max_depth=4, n_estimators=300, total= 2.6min\n",
      "[CV] loss=deviance, max_depth=4, n_estimators=300 ....................\n"
     ]
    },
    {
     "name": "stderr",
     "output_type": "stream",
     "text": [
      "[Parallel(n_jobs=1)]: Done   1 out of   1 | elapsed:  2.6min remaining:    0.0s\n"
     ]
    },
    {
     "name": "stdout",
     "output_type": "stream",
     "text": [
      "[CV] ..... loss=deviance, max_depth=4, n_estimators=300, total= 2.5min\n",
      "[CV] loss=deviance, max_depth=4, n_estimators=300 ....................\n",
      "[CV] ..... loss=deviance, max_depth=4, n_estimators=300, total= 2.5min\n",
      "[CV] loss=deviance, max_depth=4, n_estimators=300 ....................\n",
      "[CV] ..... loss=deviance, max_depth=4, n_estimators=300, total= 2.5min\n",
      "[CV] loss=deviance, max_depth=4, n_estimators=300 ....................\n",
      "[CV] ..... loss=deviance, max_depth=4, n_estimators=300, total= 2.5min\n",
      "[CV] loss=deviance, max_depth=6, n_estimators=300 ....................\n",
      "[CV] ..... loss=deviance, max_depth=6, n_estimators=300, total= 3.8min\n",
      "[CV] loss=deviance, max_depth=6, n_estimators=300 ....................\n",
      "[CV] ..... loss=deviance, max_depth=6, n_estimators=300, total= 3.7min\n",
      "[CV] loss=deviance, max_depth=6, n_estimators=300 ....................\n",
      "[CV] ..... loss=deviance, max_depth=6, n_estimators=300, total= 3.9min\n",
      "[CV] loss=deviance, max_depth=6, n_estimators=300 ....................\n",
      "[CV] ..... loss=deviance, max_depth=6, n_estimators=300, total= 3.8min\n",
      "[CV] loss=deviance, max_depth=6, n_estimators=300 ....................\n",
      "[CV] ..... loss=deviance, max_depth=6, n_estimators=300, total= 3.8min\n",
      "[CV] loss=deviance, max_depth=8, n_estimators=300 ....................\n",
      "[CV] ..... loss=deviance, max_depth=8, n_estimators=300, total= 5.0min\n",
      "[CV] loss=deviance, max_depth=8, n_estimators=300 ....................\n",
      "[CV] ..... loss=deviance, max_depth=8, n_estimators=300, total= 5.2min\n",
      "[CV] loss=deviance, max_depth=8, n_estimators=300 ....................\n",
      "[CV] ..... loss=deviance, max_depth=8, n_estimators=300, total= 5.1min\n",
      "[CV] loss=deviance, max_depth=8, n_estimators=300 ....................\n",
      "[CV] ..... loss=deviance, max_depth=8, n_estimators=300, total= 5.1min\n",
      "[CV] loss=deviance, max_depth=8, n_estimators=300 ....................\n",
      "[CV] ..... loss=deviance, max_depth=8, n_estimators=300, total= 5.0min\n",
      "[CV] loss=exponential, max_depth=4, n_estimators=300 .................\n",
      "[CV] .. loss=exponential, max_depth=4, n_estimators=300, total= 2.5min\n",
      "[CV] loss=exponential, max_depth=4, n_estimators=300 .................\n",
      "[CV] .. loss=exponential, max_depth=4, n_estimators=300, total= 2.6min\n",
      "[CV] loss=exponential, max_depth=4, n_estimators=300 .................\n",
      "[CV] .. loss=exponential, max_depth=4, n_estimators=300, total= 2.6min\n",
      "[CV] loss=exponential, max_depth=4, n_estimators=300 .................\n",
      "[CV] .. loss=exponential, max_depth=4, n_estimators=300, total= 2.5min\n",
      "[CV] loss=exponential, max_depth=4, n_estimators=300 .................\n",
      "[CV] .. loss=exponential, max_depth=4, n_estimators=300, total= 2.5min\n",
      "[CV] loss=exponential, max_depth=6, n_estimators=300 .................\n",
      "[CV] .. loss=exponential, max_depth=6, n_estimators=300, total= 3.7min\n",
      "[CV] loss=exponential, max_depth=6, n_estimators=300 .................\n",
      "[CV] .. loss=exponential, max_depth=6, n_estimators=300, total= 3.9min\n",
      "[CV] loss=exponential, max_depth=6, n_estimators=300 .................\n",
      "[CV] .. loss=exponential, max_depth=6, n_estimators=300, total= 3.7min\n",
      "[CV] loss=exponential, max_depth=6, n_estimators=300 .................\n",
      "[CV] .. loss=exponential, max_depth=6, n_estimators=300, total= 3.8min\n",
      "[CV] loss=exponential, max_depth=6, n_estimators=300 .................\n",
      "[CV] .. loss=exponential, max_depth=6, n_estimators=300, total= 3.9min\n",
      "[CV] loss=exponential, max_depth=8, n_estimators=300 .................\n",
      "[CV] .. loss=exponential, max_depth=8, n_estimators=300, total= 5.1min\n",
      "[CV] loss=exponential, max_depth=8, n_estimators=300 .................\n",
      "[CV] .. loss=exponential, max_depth=8, n_estimators=300, total= 5.0min\n",
      "[CV] loss=exponential, max_depth=8, n_estimators=300 .................\n",
      "[CV] .. loss=exponential, max_depth=8, n_estimators=300, total= 5.1min\n",
      "[CV] loss=exponential, max_depth=8, n_estimators=300 .................\n",
      "[CV] .. loss=exponential, max_depth=8, n_estimators=300, total= 5.3min\n",
      "[CV] loss=exponential, max_depth=8, n_estimators=300 .................\n",
      "[CV] .. loss=exponential, max_depth=8, n_estimators=300, total= 5.2min\n"
     ]
    },
    {
     "name": "stderr",
     "output_type": "stream",
     "text": [
      "[Parallel(n_jobs=1)]: Done  30 out of  30 | elapsed: 114.2min finished\n"
     ]
    },
    {
     "name": "stdout",
     "output_type": "stream",
     "text": [
      "67.94\n"
     ]
    }
   ],
   "source": [
    "# Gradiente Boosting\n",
    "\n",
    "from sklearn.ensemble import GradientBoostingClassifier\n",
    "\n",
    "gbk = GradientBoostingClassifier()\n",
    "\n",
    "dt_grid = {'loss'          : ['deviance','exponential'],\n",
    "           'n_estimators'  : [100],\n",
    "           'max_depth'     : [4,6,8]}\n",
    "gs_gbk = GridSearchCV(gbk, dt_grid,verbose=2)\n",
    "gs_gbk.fit(x_train, y_train)\n",
    "best_model_gbk = gs_gbk.best_estimator_\n",
    "y_pred_gbk = best_model_gbk.predict(x_val)\n",
    "acc_gbk = round(accuracy_score(y_pred_gbk, y_val) * 100, 2)\n",
    "print(acc_gbk)\n",
    "y_pred_prob_gbk = best_model_gbk.predict_proba(x_val)    "
   ]
  },
  {
   "cell_type": "code",
   "execution_count": 76,
   "metadata": {
    "scrolled": true
   },
   "outputs": [],
   "source": [
    "#pd.DataFrame(gs.cv_results_).sort_values (by='rank_test_score').head(10)"
   ]
  },
  {
   "cell_type": "code",
   "execution_count": 77,
   "metadata": {
    "scrolled": false
   },
   "outputs": [
    {
     "name": "stdout",
     "output_type": "stream",
     "text": [
      "Fitting 5 folds for each of 14 candidates, totalling 70 fits\n",
      "[CV] n_neighbors=5, weights=uniform ..................................\n"
     ]
    },
    {
     "name": "stderr",
     "output_type": "stream",
     "text": [
      "[Parallel(n_jobs=1)]: Using backend SequentialBackend with 1 concurrent workers.\n"
     ]
    },
    {
     "name": "stdout",
     "output_type": "stream",
     "text": [
      "[CV] ................... n_neighbors=5, weights=uniform, total=   5.5s\n",
      "[CV] n_neighbors=5, weights=uniform ..................................\n"
     ]
    },
    {
     "name": "stderr",
     "output_type": "stream",
     "text": [
      "[Parallel(n_jobs=1)]: Done   1 out of   1 | elapsed:    5.4s remaining:    0.0s\n"
     ]
    },
    {
     "name": "stdout",
     "output_type": "stream",
     "text": [
      "[CV] ................... n_neighbors=5, weights=uniform, total=   5.1s\n",
      "[CV] n_neighbors=5, weights=uniform ..................................\n",
      "[CV] ................... n_neighbors=5, weights=uniform, total=   4.4s\n",
      "[CV] n_neighbors=5, weights=uniform ..................................\n",
      "[CV] ................... n_neighbors=5, weights=uniform, total=   4.5s\n",
      "[CV] n_neighbors=5, weights=uniform ..................................\n",
      "[CV] ................... n_neighbors=5, weights=uniform, total=   5.0s\n",
      "[CV] n_neighbors=5, weights=distance .................................\n",
      "[CV] .................. n_neighbors=5, weights=distance, total=   4.0s\n",
      "[CV] n_neighbors=5, weights=distance .................................\n",
      "[CV] .................. n_neighbors=5, weights=distance, total=   3.7s\n",
      "[CV] n_neighbors=5, weights=distance .................................\n",
      "[CV] .................. n_neighbors=5, weights=distance, total=   3.9s\n",
      "[CV] n_neighbors=5, weights=distance .................................\n",
      "[CV] .................. n_neighbors=5, weights=distance, total=   3.5s\n",
      "[CV] n_neighbors=5, weights=distance .................................\n",
      "[CV] .................. n_neighbors=5, weights=distance, total=   4.1s\n",
      "[CV] n_neighbors=7, weights=uniform ..................................\n",
      "[CV] ................... n_neighbors=7, weights=uniform, total=   5.1s\n",
      "[CV] n_neighbors=7, weights=uniform ..................................\n",
      "[CV] ................... n_neighbors=7, weights=uniform, total=   4.7s\n",
      "[CV] n_neighbors=7, weights=uniform ..................................\n",
      "[CV] ................... n_neighbors=7, weights=uniform, total=   4.4s\n",
      "[CV] n_neighbors=7, weights=uniform ..................................\n",
      "[CV] ................... n_neighbors=7, weights=uniform, total=   6.7s\n",
      "[CV] n_neighbors=7, weights=uniform ..................................\n",
      "[CV] ................... n_neighbors=7, weights=uniform, total=   5.2s\n",
      "[CV] n_neighbors=7, weights=distance .................................\n",
      "[CV] .................. n_neighbors=7, weights=distance, total=   4.2s\n",
      "[CV] n_neighbors=7, weights=distance .................................\n",
      "[CV] .................. n_neighbors=7, weights=distance, total=   3.9s\n",
      "[CV] n_neighbors=7, weights=distance .................................\n",
      "[CV] .................. n_neighbors=7, weights=distance, total=   3.5s\n",
      "[CV] n_neighbors=7, weights=distance .................................\n",
      "[CV] .................. n_neighbors=7, weights=distance, total=   3.7s\n",
      "[CV] n_neighbors=7, weights=distance .................................\n",
      "[CV] .................. n_neighbors=7, weights=distance, total=   4.3s\n",
      "[CV] n_neighbors=9, weights=uniform ..................................\n",
      "[CV] ................... n_neighbors=9, weights=uniform, total=   5.2s\n",
      "[CV] n_neighbors=9, weights=uniform ..................................\n",
      "[CV] ................... n_neighbors=9, weights=uniform, total=   4.8s\n",
      "[CV] n_neighbors=9, weights=uniform ..................................\n",
      "[CV] ................... n_neighbors=9, weights=uniform, total=   4.6s\n",
      "[CV] n_neighbors=9, weights=uniform ..................................\n",
      "[CV] ................... n_neighbors=9, weights=uniform, total=   4.7s\n",
      "[CV] n_neighbors=9, weights=uniform ..................................\n",
      "[CV] ................... n_neighbors=9, weights=uniform, total=   5.3s\n",
      "[CV] n_neighbors=9, weights=distance .................................\n",
      "[CV] .................. n_neighbors=9, weights=distance, total=   4.3s\n",
      "[CV] n_neighbors=9, weights=distance .................................\n",
      "[CV] .................. n_neighbors=9, weights=distance, total=   4.0s\n",
      "[CV] n_neighbors=9, weights=distance .................................\n",
      "[CV] .................. n_neighbors=9, weights=distance, total=   3.7s\n",
      "[CV] n_neighbors=9, weights=distance .................................\n",
      "[CV] .................. n_neighbors=9, weights=distance, total=   3.8s\n",
      "[CV] n_neighbors=9, weights=distance .................................\n",
      "[CV] .................. n_neighbors=9, weights=distance, total=   4.4s\n",
      "[CV] n_neighbors=11, weights=uniform .................................\n",
      "[CV] .................. n_neighbors=11, weights=uniform, total=   5.3s\n",
      "[CV] n_neighbors=11, weights=uniform .................................\n",
      "[CV] .................. n_neighbors=11, weights=uniform, total=   5.0s\n",
      "[CV] n_neighbors=11, weights=uniform .................................\n",
      "[CV] .................. n_neighbors=11, weights=uniform, total=   4.7s\n",
      "[CV] n_neighbors=11, weights=uniform .................................\n",
      "[CV] .................. n_neighbors=11, weights=uniform, total=   4.8s\n",
      "[CV] n_neighbors=11, weights=uniform .................................\n",
      "[CV] .................. n_neighbors=11, weights=uniform, total=   5.4s\n",
      "[CV] n_neighbors=11, weights=distance ................................\n",
      "[CV] ................. n_neighbors=11, weights=distance, total=   4.4s\n",
      "[CV] n_neighbors=11, weights=distance ................................\n",
      "[CV] ................. n_neighbors=11, weights=distance, total=   4.0s\n",
      "[CV] n_neighbors=11, weights=distance ................................\n",
      "[CV] ................. n_neighbors=11, weights=distance, total=   3.8s\n",
      "[CV] n_neighbors=11, weights=distance ................................\n",
      "[CV] ................. n_neighbors=11, weights=distance, total=   3.9s\n",
      "[CV] n_neighbors=11, weights=distance ................................\n",
      "[CV] ................. n_neighbors=11, weights=distance, total=   4.5s\n",
      "[CV] n_neighbors=13, weights=uniform .................................\n",
      "[CV] .................. n_neighbors=13, weights=uniform, total=   5.4s\n",
      "[CV] n_neighbors=13, weights=uniform .................................\n",
      "[CV] .................. n_neighbors=13, weights=uniform, total=   5.0s\n",
      "[CV] n_neighbors=13, weights=uniform .................................\n",
      "[CV] .................. n_neighbors=13, weights=uniform, total=   4.8s\n",
      "[CV] n_neighbors=13, weights=uniform .................................\n",
      "[CV] .................. n_neighbors=13, weights=uniform, total=   4.9s\n",
      "[CV] n_neighbors=13, weights=uniform .................................\n",
      "[CV] .................. n_neighbors=13, weights=uniform, total=   5.6s\n",
      "[CV] n_neighbors=13, weights=distance ................................\n",
      "[CV] ................. n_neighbors=13, weights=distance, total=   4.5s\n",
      "[CV] n_neighbors=13, weights=distance ................................\n",
      "[CV] ................. n_neighbors=13, weights=distance, total=   4.1s\n",
      "[CV] n_neighbors=13, weights=distance ................................\n",
      "[CV] ................. n_neighbors=13, weights=distance, total=   3.8s\n",
      "[CV] n_neighbors=13, weights=distance ................................\n",
      "[CV] ................. n_neighbors=13, weights=distance, total=   3.9s\n",
      "[CV] n_neighbors=13, weights=distance ................................\n",
      "[CV] ................. n_neighbors=13, weights=distance, total=   4.6s\n",
      "[CV] n_neighbors=15, weights=uniform .................................\n",
      "[CV] .................. n_neighbors=15, weights=uniform, total=   5.5s\n",
      "[CV] n_neighbors=15, weights=uniform .................................\n",
      "[CV] .................. n_neighbors=15, weights=uniform, total=   5.1s\n",
      "[CV] n_neighbors=15, weights=uniform .................................\n",
      "[CV] .................. n_neighbors=15, weights=uniform, total=   4.9s\n",
      "[CV] n_neighbors=15, weights=uniform .................................\n",
      "[CV] .................. n_neighbors=15, weights=uniform, total=   4.9s\n",
      "[CV] n_neighbors=15, weights=uniform .................................\n",
      "[CV] .................. n_neighbors=15, weights=uniform, total=   5.6s\n",
      "[CV] n_neighbors=15, weights=distance ................................\n",
      "[CV] ................. n_neighbors=15, weights=distance, total=   4.6s\n",
      "[CV] n_neighbors=15, weights=distance ................................\n",
      "[CV] ................. n_neighbors=15, weights=distance, total=   4.2s\n",
      "[CV] n_neighbors=15, weights=distance ................................\n",
      "[CV] ................. n_neighbors=15, weights=distance, total=   3.9s\n",
      "[CV] n_neighbors=15, weights=distance ................................\n",
      "[CV] ................. n_neighbors=15, weights=distance, total=   4.0s\n",
      "[CV] n_neighbors=15, weights=distance ................................\n"
     ]
    },
    {
     "name": "stdout",
     "output_type": "stream",
     "text": [
      "[CV] ................. n_neighbors=15, weights=distance, total=   4.7s\n",
      "[CV] n_neighbors=17, weights=uniform .................................\n",
      "[CV] .................. n_neighbors=17, weights=uniform, total=   5.6s\n",
      "[CV] n_neighbors=17, weights=uniform .................................\n",
      "[CV] .................. n_neighbors=17, weights=uniform, total=   5.2s\n",
      "[CV] n_neighbors=17, weights=uniform .................................\n",
      "[CV] .................. n_neighbors=17, weights=uniform, total=   4.9s\n",
      "[CV] n_neighbors=17, weights=uniform .................................\n",
      "[CV] .................. n_neighbors=17, weights=uniform, total=   5.0s\n",
      "[CV] n_neighbors=17, weights=uniform .................................\n",
      "[CV] .................. n_neighbors=17, weights=uniform, total=   5.7s\n",
      "[CV] n_neighbors=17, weights=distance ................................\n",
      "[CV] ................. n_neighbors=17, weights=distance, total=   4.7s\n",
      "[CV] n_neighbors=17, weights=distance ................................\n",
      "[CV] ................. n_neighbors=17, weights=distance, total=   4.3s\n",
      "[CV] n_neighbors=17, weights=distance ................................\n",
      "[CV] ................. n_neighbors=17, weights=distance, total=   4.0s\n",
      "[CV] n_neighbors=17, weights=distance ................................\n",
      "[CV] ................. n_neighbors=17, weights=distance, total=   4.4s\n",
      "[CV] n_neighbors=17, weights=distance ................................\n",
      "[CV] ................. n_neighbors=17, weights=distance, total=   5.2s\n"
     ]
    },
    {
     "name": "stderr",
     "output_type": "stream",
     "text": [
      "[Parallel(n_jobs=1)]: Done  70 out of  70 | elapsed:  5.4min finished\n"
     ]
    },
    {
     "name": "stdout",
     "output_type": "stream",
     "text": [
      "66.58\n"
     ]
    }
   ],
   "source": [
    "# KNN\n",
    "\n",
    "from sklearn.neighbors import KNeighborsClassifier\n",
    "\n",
    "knn = KNeighborsClassifier()\n",
    "\n",
    "dt_grid = {'n_neighbors'   : [5,7,9,11,13,15,17],\n",
    "           'weights'        : ['uniform','distance']}\n",
    "gs_knn = GridSearchCV(knn, dt_grid,verbose=2)\n",
    "gs_knn.fit(x_train, y_train)\n",
    "best_model_knn = gs_knn.best_estimator_\n",
    "y_pred_knn = best_model_knn.predict(x_val)\n",
    "acc_knn = round(accuracy_score(y_pred_knn,y_val) * 100, 2)\n",
    "print(acc_knn)\n",
    "y_pred_prob_knn = best_model_knn.predict_proba(x_val)    "
   ]
  },
  {
   "cell_type": "code",
   "execution_count": 78,
   "metadata": {},
   "outputs": [],
   "source": [
    "#pd.DataFrame(gs.cv_results_).sort_values (by='rank_test_score').head(10)"
   ]
  },
  {
   "cell_type": "code",
   "execution_count": 79,
   "metadata": {},
   "outputs": [
    {
     "name": "stdout",
     "output_type": "stream",
     "text": [
      "Fitting 5 folds for each of 2 candidates, totalling 10 fits\n",
      "[CV] fit_intercept=True, max_iter=7600 ...............................\n"
     ]
    },
    {
     "name": "stderr",
     "output_type": "stream",
     "text": [
      "[Parallel(n_jobs=1)]: Using backend SequentialBackend with 1 concurrent workers.\n"
     ]
    },
    {
     "name": "stdout",
     "output_type": "stream",
     "text": [
      "[CV] ................ fit_intercept=True, max_iter=7600, total= 1.1min\n",
      "[CV] fit_intercept=True, max_iter=7600 ...............................\n"
     ]
    },
    {
     "name": "stderr",
     "output_type": "stream",
     "text": [
      "[Parallel(n_jobs=1)]: Done   1 out of   1 | elapsed:  1.1min remaining:    0.0s\n"
     ]
    },
    {
     "name": "stdout",
     "output_type": "stream",
     "text": [
      "[CV] ................ fit_intercept=True, max_iter=7600, total= 1.3min\n",
      "[CV] fit_intercept=True, max_iter=7600 ...............................\n",
      "[CV] ................ fit_intercept=True, max_iter=7600, total= 1.0min\n",
      "[CV] fit_intercept=True, max_iter=7600 ...............................\n",
      "[CV] ................ fit_intercept=True, max_iter=7600, total=  55.8s\n",
      "[CV] fit_intercept=True, max_iter=7600 ...............................\n",
      "[CV] ................ fit_intercept=True, max_iter=7600, total=  57.0s\n",
      "[CV] fit_intercept=False, max_iter=7600 ..............................\n",
      "[CV] ............... fit_intercept=False, max_iter=7600, total=  22.4s\n",
      "[CV] fit_intercept=False, max_iter=7600 ..............................\n",
      "[CV] ............... fit_intercept=False, max_iter=7600, total=  16.2s\n",
      "[CV] fit_intercept=False, max_iter=7600 ..............................\n",
      "[CV] ............... fit_intercept=False, max_iter=7600, total=  26.3s\n",
      "[CV] fit_intercept=False, max_iter=7600 ..............................\n",
      "[CV] ............... fit_intercept=False, max_iter=7600, total=  25.1s\n",
      "[CV] fit_intercept=False, max_iter=7600 ..............................\n",
      "[CV] ............... fit_intercept=False, max_iter=7600, total=  32.2s\n"
     ]
    },
    {
     "name": "stderr",
     "output_type": "stream",
     "text": [
      "[Parallel(n_jobs=1)]: Done  10 out of  10 | elapsed:  7.3min finished\n"
     ]
    },
    {
     "name": "stdout",
     "output_type": "stream",
     "text": [
      "67.75\n"
     ]
    }
   ],
   "source": [
    "# Logistic Regression\n",
    "from sklearn.linear_model import LogisticRegression\n",
    "#maxiter\n",
    "\n",
    "logreg = LogisticRegression()\n",
    "dt_grid = {'fit_intercept' : [True,False],\n",
    "           'max_iter'      : [7600]}\n",
    "gs_lr = GridSearchCV(logreg, dt_grid,verbose=2)\n",
    "gs_lr.fit(x_train, y_train)\n",
    "best_model_lr = gs_lr.best_estimator_\n",
    "y_pred_lr = best_model_lr.predict(x_val)\n",
    "acc_logreg = round(accuracy_score(y_pred_lr, y_val) * 100, 2)\n",
    "print(acc_logreg)\n",
    "y_pred_prob_logreg = best_model_lr.predict_proba(x_val)    "
   ]
  },
  {
   "cell_type": "code",
   "execution_count": 80,
   "metadata": {},
   "outputs": [],
   "source": [
    "#pd.DataFrame(gs.cv_results_).sort_values (by='rank_test_score').head(10)"
   ]
  },
  {
   "cell_type": "code",
   "execution_count": 81,
   "metadata": {},
   "outputs": [
    {
     "name": "stdout",
     "output_type": "stream",
     "text": [
      "68.28\n"
     ]
    }
   ],
   "source": [
    "# Random Forest\n",
    "from sklearn.ensemble import RandomForestClassifier\n",
    "\n",
    "randomforest = RandomForestClassifier()\n",
    "\n",
    "dt_grid = {'max_depth' : [6,8,10,12],\n",
    "           'criterion' : ['gini','entropy']}\n",
    "gs_rf = GridSearchCV(randomforest, dt_grid)\n",
    "gs_rf.fit(x_train, y_train)\n",
    "best_model_rf = gs_rf.best_estimator_\n",
    "y_pred_rf = best_model_rf.predict(x_val)\n",
    "acc_randomforest = round(accuracy_score(y_pred_rf, y_val) * 100, 2)\n",
    "print(acc_randomforest)\n",
    "y_pred_prob_rf = best_model_rf.predict_proba(x_val)    "
   ]
  },
  {
   "cell_type": "code",
   "execution_count": 82,
   "metadata": {},
   "outputs": [],
   "source": [
    "#pd.DataFrame(gs_rf.cv_results_).sort_values (by='rank_test_score').head(10)"
   ]
  },
  {
   "cell_type": "code",
   "execution_count": 83,
   "metadata": {},
   "outputs": [
    {
     "name": "stdout",
     "output_type": "stream",
     "text": [
      "68.15\n"
     ]
    }
   ],
   "source": [
    "#XGBoost\n",
    "from xgboost import XGBClassifier\n",
    "\n",
    "xgb = XGBClassifier()\n",
    "\n",
    "dt_grid = {'max_depth'    : [3,5,7,9]}\n",
    "gs_xgb = GridSearchCV(xgb, dt_grid)\n",
    "gs_xgb.fit(x_train, y_train)\n",
    "best_model_xgb = gs_xgb.best_estimator_\n",
    "y_pred_xgb = best_model_xgb.predict(x_val)\n",
    "acc_xgb = round(accuracy_score(y_pred_xgb, y_val) * 100, 2)\n",
    "print(acc_xgb)\n",
    "y_pred_prob_xgb = best_model_xgb.predict_proba(x_val)    "
   ]
  },
  {
   "cell_type": "code",
   "execution_count": 84,
   "metadata": {
    "scrolled": true
   },
   "outputs": [],
   "source": [
    "#pd.DataFrame(gs_xgb.cv_results_).sort_values (by='rank_test_score').head()"
   ]
  },
  {
   "cell_type": "code",
   "execution_count": 85,
   "metadata": {},
   "outputs": [
    {
     "name": "stdout",
     "output_type": "stream",
     "text": [
      "63.4\n"
     ]
    }
   ],
   "source": [
    "#AdaBoost\n",
    "from sklearn.ensemble import AdaBoostClassifier\n",
    "\n",
    "boost = AdaBoostClassifier(base_estimator=DecisionTreeClassifier())\n",
    "\n",
    "dt_grid = {'n_estimators' : [100]}\n",
    "\n",
    "gs_boost = GridSearchCV(boost, dt_grid)\n",
    "gs_boost.fit(x_train, y_train)\n",
    "best_model_boost = gs_boost.best_estimator_\n",
    "y_pred_boost = best_model_boost.predict(x_val)\n",
    "acc_boost = round(accuracy_score(y_pred_boost, y_val) * 100, 2)\n",
    "print(acc_boost)\n",
    "y_pred_prob_ada = best_model_boost.predict_proba(x_val)    "
   ]
  },
  {
   "cell_type": "code",
   "execution_count": 86,
   "metadata": {},
   "outputs": [],
   "source": [
    "#pd.DataFrame(gs_xgb.cv_results_).sort_values (by='rank_test_score').head()"
   ]
  },
  {
   "cell_type": "code",
   "execution_count": 87,
   "metadata": {
    "scrolled": false
   },
   "outputs": [
    {
     "data": {
      "text/html": [
       "<div>\n",
       "<style scoped>\n",
       "    .dataframe tbody tr th:only-of-type {\n",
       "        vertical-align: middle;\n",
       "    }\n",
       "\n",
       "    .dataframe tbody tr th {\n",
       "        vertical-align: top;\n",
       "    }\n",
       "\n",
       "    .dataframe thead th {\n",
       "        text-align: right;\n",
       "    }\n",
       "</style>\n",
       "<table border=\"1\" class=\"dataframe\">\n",
       "  <thead>\n",
       "    <tr style=\"text-align: right;\">\n",
       "      <th></th>\n",
       "      <th>Method</th>\n",
       "      <th>Score</th>\n",
       "    </tr>\n",
       "  </thead>\n",
       "  <tbody>\n",
       "    <tr>\n",
       "      <th>0</th>\n",
       "      <td>Random Forest</td>\n",
       "      <td>68.28</td>\n",
       "    </tr>\n",
       "    <tr>\n",
       "      <th>1</th>\n",
       "      <td>XGBoost</td>\n",
       "      <td>68.15</td>\n",
       "    </tr>\n",
       "    <tr>\n",
       "      <th>2</th>\n",
       "      <td>Gradiente Booster</td>\n",
       "      <td>67.94</td>\n",
       "    </tr>\n",
       "    <tr>\n",
       "      <th>3</th>\n",
       "      <td>Decision Tree</td>\n",
       "      <td>67.91</td>\n",
       "    </tr>\n",
       "    <tr>\n",
       "      <th>4</th>\n",
       "      <td>Logistic Regression</td>\n",
       "      <td>67.75</td>\n",
       "    </tr>\n",
       "    <tr>\n",
       "      <th>5</th>\n",
       "      <td>KNN</td>\n",
       "      <td>66.58</td>\n",
       "    </tr>\n",
       "    <tr>\n",
       "      <th>6</th>\n",
       "      <td>Adaboost</td>\n",
       "      <td>63.40</td>\n",
       "    </tr>\n",
       "  </tbody>\n",
       "</table>\n",
       "</div>"
      ],
      "text/plain": [
       "                Method  Score\n",
       "0        Random Forest  68.28\n",
       "1              XGBoost  68.15\n",
       "2    Gradiente Booster  67.94\n",
       "3        Decision Tree  67.91\n",
       "4  Logistic Regression  67.75\n",
       "5                  KNN  66.58\n",
       "6             Adaboost  63.40"
      ]
     },
     "execution_count": 87,
     "metadata": {},
     "output_type": "execute_result"
    }
   ],
   "source": [
    "# Selecionar o melhor modelo\n",
    "models = pd.DataFrame({\n",
    "    'Method': ['Decision Tree','Gradiente Booster','KNN', 'Logistic Regression', 'Random Forest', 'XGBoost','Adaboost'],\n",
    "    'Score': [acc_decisiontree,acc_gbk,acc_knn, acc_logreg, acc_randomforest, acc_xgb, acc_boost]})\n",
    "models.sort_values(by='Score', ascending=False, ignore_index=True, inplace = True)\n",
    "models"
   ]
  },
  {
   "cell_type": "markdown",
   "metadata": {},
   "source": [
    "# aplica o modelo na base toda (não somente na amostra)"
   ]
  },
  {
   "cell_type": "code",
   "execution_count": 88,
   "metadata": {},
   "outputs": [],
   "source": [
    "df = pd.DataFrame(data = base_final, columns = lista)"
   ]
  },
  {
   "cell_type": "code",
   "execution_count": 89,
   "metadata": {},
   "outputs": [],
   "source": [
    "if models.Method[0] == 'Random Forest':\n",
    "    randomforest = best_model_rf\n",
    "    randomforest.fit(x_train, y_train)\n",
    "    y_pred = randomforest.predict(df)\n",
    "    y_pred_prob = randomforest.predict_proba(df)\n",
    "elif models.Method[0] == 'Gradiente Booster':\n",
    "    gbk = best_model_gbk\n",
    "    gbk.fit(x_train, y_train)\n",
    "    y_pred = gbk.predict(df)\n",
    "    y_pred_prob = gbk.predict_proba(df)\n",
    "elif models.Method[0] == 'XGBoost':\n",
    "    xgb = best_model_xgb\n",
    "    xgb.fit(x_train, y_train)\n",
    "    y_pred = xgb.predict(df)\n",
    "    y_pred_prob = xgb.predict_proba(df)\n",
    "elif models.Method[0] == 'Adaboost':\n",
    "    boost = best_model_boost\n",
    "    boost.fit(x_train, y_train)\n",
    "    y_pred = boost.predict(df)\n",
    "    y_pred_prob = boost.predict_proba(df)\n",
    "elif models.Method[0] == 'Decision Tree':\n",
    "    decisiontree = best_model_dt\n",
    "    decisiontree.fit(x_train, y_train)\n",
    "    y_pred = decisiontree.predict(df)\n",
    "    y_pred_prob = decisiontree.predict_proba(df)\n",
    "elif models.Method[0] == 'Logistic Regression':\n",
    "    logreg = best_model_lr\n",
    "    logreg.fit(x_train, y_train)\n",
    "    y_pred = logreg.predict(df)\n",
    "    y_pred_prob = logreg.predict_proba(df)\n",
    "elif models.Method[0] == 'KNN':\n",
    "    knn = best_model_knn\n",
    "    knn.fit(x_train, y_train)\n",
    "    y_pred = knn.predict(df)\n",
    "    y_pred_prob = knn.predict_proba(df)    "
   ]
  },
  {
   "cell_type": "markdown",
   "metadata": {},
   "source": [
    "crio quintis para posterior definição de cortes"
   ]
  },
  {
   "cell_type": "code",
   "execution_count": 90,
   "metadata": {},
   "outputs": [],
   "source": [
    "Base_Pontuada = pd.DataFrame({'PK_ID_PESSOA':base_final['PK_ID_PESSOA'],'PROBABILIDADE':y_pred_prob[:,1],'RESPOSTA_REALIZADA':base_final['RESPOSTA'],'RESPOSTA_PREDITA':y_pred})"
   ]
  },
  {
   "cell_type": "code",
   "execution_count": 91,
   "metadata": {},
   "outputs": [],
   "source": [
    "cut_labels_20 = ['Faixa 01', 'Faixa 02', 'Faixa 03', 'Faixa 04','Faixa 05', 'Faixa 06', 'Faixa 07', 'Faixa 08', 'Faixa 09', 'Faixa 10',\n",
    "                 'Faixa 11', 'Faixa 12', 'Faixa 13', 'Faixa 14','Faixa 15', 'Faixa 16', 'Faixa 17', 'Faixa 18', 'Faixa 19', 'Faixa 20',]\n",
    "\n",
    "#Base_Pontuada['FX_SCORE'] = pd.qcut(Base_Pontuada['PROBABILIDADE'], 20, labels=cut_labels_20)"
   ]
  },
  {
   "cell_type": "code",
   "execution_count": 92,
   "metadata": {},
   "outputs": [],
   "source": [
    "Maximo = Base_Pontuada.groupby(['FX_SCORE'], as_index=False)['PROBABILIDADE'].max()"
   ]
  },
  {
   "cell_type": "code",
   "execution_count": 93,
   "metadata": {
    "scrolled": true
   },
   "outputs": [],
   "source": [
    "Base_Pontuada = pd.merge(Base_Pontuada, Maximo, on = 'FX_SCORE', how = 'left', sort = True)"
   ]
  },
  {
   "cell_type": "code",
   "execution_count": 94,
   "metadata": {},
   "outputs": [],
   "source": [
    "Base_Pontuada.to_csv('Tabela_Corte_Ativacao.csv')"
   ]
  },
  {
   "cell_type": "markdown",
   "metadata": {},
   "source": [
    "Apagar variaveis para liberar memória"
   ]
  },
  {
   "cell_type": "code",
   "execution_count": 95,
   "metadata": {},
   "outputs": [],
   "source": [
    "if models.Method[0] == 'Random Forest':\n",
    "    del gbk,y_pred_gbk,acc_gbk\n",
    "    del xgb,y_pred_xgb,acc_xgb\n",
    "    del boost,y_pred_boost,acc_boost\n",
    "    del decisiontree,y_pred_dec,acc_decisiontree\n",
    "    del logreg,y_pred_lr,acc_logreg\n",
    "    del knn,y_pred_knn,acc_knn\n",
    "elif models.Method[0] == 'Gradiente Booster':\n",
    "    del randomforest,y_pred_rf,acc_randomforest\n",
    "    del xgb,y_pred_xgb,acc_xgb\n",
    "    del boost,y_pred_boost,acc_boost\n",
    "    del decisiontree,y_pred_dec,acc_decisiontree\n",
    "    del logreg,y_pred_lr,acc_logreg\n",
    "    del knn,y_pred_knn,acc_knn\n",
    "elif models.Method[0] == 'XGBoost':\n",
    "    del randomforest,y_pred_rf,acc_randomforest\n",
    "    del gbk,y_pred_gbk,acc_gbk\n",
    "    del boost,y_pred_boost,acc_boost\n",
    "    del decisiontree,y_pred_dec,acc_decisiontree\n",
    "    del logreg,y_pred_lr,acc_logreg\n",
    "    del knn,y_pred_knn,acc_knn\n",
    "elif models.Method[0] == 'Adaboost':\n",
    "    del randomforest,y_pred_rf,acc_randomforest\n",
    "    del gbk,y_pred_gbk,acc_gbk\n",
    "    del xgb,y_pred_xgb,acc_xgb\n",
    "    del decisiontree,y_pred_dec,acc_decisiontree\n",
    "    del logreg,y_pred_lr,acc_logreg\n",
    "    del knn,y_pred_knn,acc_knn\n",
    "elif models.Method[0] == 'Decision Tree':\n",
    "    del randomforest,y_pred_rf,acc_randomforest\n",
    "    del gbk,y_pred_gbk,acc_gbk\n",
    "    del xgb,y_pred_xgb,acc_xgb\n",
    "    del boost,y_pred_boost,acc_boost\n",
    "    del logreg,y_pred_lr,acc_logreg\n",
    "    del knn,y_pred_knn,acc_knn\n",
    "elif models.Method[0] == 'Logistic Regression':\n",
    "    del randomforest,y_pred_rf,acc_randomforest\n",
    "    del gbk,y_pred_gbk,acc_gbk\n",
    "    del xgb,y_pred_xgb,acc_xgb\n",
    "    del boost,y_pred_boost,acc_boost\n",
    "    del decisiontree,y_pred_dec,acc_decisiontree\n",
    "    del knn,y_pred_knn,acc_knn\n",
    "elif models.Method[0] == 'KNN':\n",
    "    del randomforest,y_pred_rf,acc_randomforest\n",
    "    del gbk,y_pred_gbk,acc_gbk\n",
    "    del xgb,y_pred_xgb,acc_xgb\n",
    "    del boost,y_pred_boost,acc_boost\n",
    "    del decisiontree,y_pred_dec,acc_decisiontree\n",
    "    del logreg,y_pred_lr,acc_logreg"
   ]
  },
  {
   "cell_type": "code",
   "execution_count": 96,
   "metadata": {},
   "outputs": [],
   "source": [
    "del pedidos, pessoas, produtos, d, elegiveis, elegiveis_id, elegiveis_dummies\n",
    "del resp0, resp1, tam_amostra, amostra_balanceada, sel_, predictors, target, base_final, numerics, numerical\n",
    "del data, mi, X_train, X_test, x_val, y_test, y_val\n",
    "#del Base_Pontuada, Maximo"
   ]
  },
  {
   "cell_type": "markdown",
   "metadata": {},
   "source": [
    "## Modelo Pronto!!! Agora é preparar a base a ser escorada"
   ]
  },
  {
   "cell_type": "code",
   "execution_count": 139,
   "metadata": {},
   "outputs": [],
   "source": [
    "pedidos_ = pd.concat ([pd.read_csv ('Pedidos_2016.csv', encoding = 'utf_8'),pd.read_csv ('Pedidos_2017.csv', encoding = 'utf_8'),pd.read_csv ('Pedidos_2018.csv', encoding = 'utf_8'),pd.read_csv ('Pedidos_2019.csv', encoding = 'utf_8'),pd.read_csv ('Pedidos_2020.csv', encoding = 'utf_8')],ignore_index=True)\n",
    "filial_ = filial\n",
    "pessoas_ = pd.read_csv ('Pessoas.csv', encoding = 'utf_8', usecols = {'PK_ID_PESSOA','IN_SEXO','DT_CAD','DS_SEGMENTO','TIPO_LOJA'})\n",
    "produtos_ = pd.read_csv ('PRODUTOS.csv', encoding = 'utf_8',sep=';')"
   ]
  },
  {
   "cell_type": "code",
   "execution_count": 140,
   "metadata": {
    "scrolled": true
   },
   "outputs": [],
   "source": [
    "pedidos_['DATA_PEDIDO'] = pd.to_datetime(pedidos_['DATA_PEDIDO'])\n",
    "pessoas_['DT_CAD'] = pd.to_datetime(pessoas_['DT_CAD'])"
   ]
  },
  {
   "cell_type": "code",
   "execution_count": 141,
   "metadata": {},
   "outputs": [],
   "source": [
    "d_ = date (ano_ref,mes_ref,1)\n",
    "\n",
    "\n",
    "if d_.month == 12:\n",
    "    d_1 = date (d_.year+1,1,1)\n",
    "    pedidos_['d_1'] = d_1\n",
    "    pessoas_['d_1'] = d_1\n",
    "else:\n",
    "    d_1 = date (d_.year,d_.month+1,1)\n",
    "    pedidos_['d_1'] = d_1\n",
    "    pessoas_['d_1'] = d_1\n",
    "\n",
    "d48_ = date (d_1.year-4,d_1.month,1)\n",
    "pedidos_['d48_'] = d48_\n",
    "\n",
    "d36_ = date (d_1.year-3,d_1.month,1)\n",
    "pedidos_['d36_'] = d36_\n",
    "    \n",
    "d24_ = date (d_1.year-2,d_1.month,1)\n",
    "pedidos_['d24_'] = d24_\n",
    "    \n",
    "d12_ = date (d_1.year-1,d_1.month,1)\n",
    "pedidos_['d12_'] = d12_\n",
    "\n",
    "if d12_.month == 12:\n",
    "    d11_ = date (d12_.year+1,1,1)\n",
    "    pedidos_['d11_'] = d11_\n",
    "else:\n",
    "    d11_ = date (d12_.year,d12_.month+1,1)\n",
    "    pedidos_['d11_'] = d11_\n",
    "    \n",
    "if d11_.month == 12:\n",
    "    d10_ = date (d11_.year+1,1,1)\n",
    "    pedidos_['d10_'] = d10_\n",
    "else:\n",
    "    d10_ = date (d11_.year,d11_.month+1,1)\n",
    "    pedidos_['d10_'] = d10_\n",
    "    \n",
    "if d10_.month == 12:\n",
    "    d09_ = date (d10_.year+1,1,1)\n",
    "    pedidos_['d09_'] = d09_\n",
    "else:\n",
    "    d09_ = date (d10_.year,d10_.month+1,1)\n",
    "    pedidos_['d09_'] = d09_\n",
    "    \n",
    "if d09_.month == 12:\n",
    "    d08_ = date (d09_.year+1,1,1)\n",
    "    pedidos_['d08_'] = d08_\n",
    "else:\n",
    "    d08_ = date (d09_.year,d09_.month+1,1)\n",
    "    pedidos_['d08_'] = d08_\n",
    "    \n",
    "if d08_.month == 12:\n",
    "    d07_ = date (d08_.year+1,1,1)\n",
    "    pedidos_['d07_'] = d07_\n",
    "else:\n",
    "    d07_ = date (d08_.year,d08_.month+1,1)\n",
    "    pedidos_['d07_'] = d07_\n",
    "    \n",
    "if d07_.month == 12:\n",
    "    d06_ = date (d07_.year+1,1,1)\n",
    "    pedidos_['d06_'] = d06_\n",
    "else:\n",
    "    d06_ = date (d07_.year,d07_.month+1,1)\n",
    "    pedidos_['d06_'] = d06_\n",
    "    \n",
    "if d06_.month == 12:\n",
    "    d05_ = date (d06_.year+1,1,1)\n",
    "    pedidos_['d05_'] = d05_\n",
    "else:\n",
    "    d05_ = date (d06_.year,d06_.month+1,1)\n",
    "    pedidos_['d05_'] = d05_\n",
    "    \n",
    "if d05_.month == 12:\n",
    "    d04_ = date (d05_.year+1,1,1)\n",
    "    pedidos_['d04_'] = d04_\n",
    "else:\n",
    "    d04_ = date (d05_.year,d05_.month+1,1)\n",
    "    pedidos_['d04_'] = d04_\n",
    "    \n",
    "if d04_.month == 12:\n",
    "    d03_ = date (d04_.year+1,1,1)\n",
    "    pedidos_['d03_'] = d03_\n",
    "else:\n",
    "    d03_ = date (d04_.year,d04_.month+1,1)\n",
    "    pedidos_['d03_'] = d03_\n",
    "    \n",
    "if d03_.month == 12:\n",
    "    d02_ = date (d03_.year+1,1,1)\n",
    "    pedidos_['d02_'] = d02_\n",
    "else:\n",
    "    d02_ = date (d03_.year,d03_.month+1,1)\n",
    "    pedidos_['d02_'] = d02_\n",
    "    \n",
    "if d02_.month == 12:\n",
    "    d01_ = date (d02_.year+1,1,1)\n",
    "    pedidos_['d01_'] = d01_\n",
    "else:\n",
    "    d01_ = date (d02_.year,d02_.month+1,1)\n",
    "    pedidos_['d01_'] = d01_"
   ]
  },
  {
   "cell_type": "code",
   "execution_count": 142,
   "metadata": {},
   "outputs": [],
   "source": [
    "pessoas_['d_1'] = pd.to_datetime(pessoas_['d_1'])\n",
    "pedidos_['d_1'] = pd.to_datetime(pedidos_['d_1'])\n",
    "pedidos_['d01_'] = pd.to_datetime(pedidos_['d01_'])\n",
    "pedidos_['d02_'] = pd.to_datetime(pedidos_['d02_'])\n",
    "pedidos_['d03_'] = pd.to_datetime(pedidos_['d03_'])\n",
    "pedidos_['d04_'] = pd.to_datetime(pedidos_['d04_'])\n",
    "pedidos_['d05_'] = pd.to_datetime(pedidos_['d05_'])\n",
    "pedidos_['d06_'] = pd.to_datetime(pedidos_['d06_'])\n",
    "pedidos_['d07_'] = pd.to_datetime(pedidos_['d07_'])\n",
    "pedidos_['d08_'] = pd.to_datetime(pedidos_['d08_'])\n",
    "pedidos_['d09_'] = pd.to_datetime(pedidos_['d09_'])\n",
    "pedidos_['d10_'] = pd.to_datetime(pedidos_['d10_'])\n",
    "pedidos_['d11_'] = pd.to_datetime(pedidos_['d11_'])\n",
    "pedidos_['d12_'] = pd.to_datetime(pedidos_['d12_'])\n",
    "pedidos_['d24_'] = pd.to_datetime(pedidos_['d24_'])\n",
    "pedidos_['d36_'] = pd.to_datetime(pedidos_['d36_'])\n",
    "pedidos_['d48_'] = pd.to_datetime(pedidos_['d48_'])"
   ]
  },
  {
   "cell_type": "code",
   "execution_count": 143,
   "metadata": {},
   "outputs": [],
   "source": [
    "del d01_,d02_,d03_,d04_,d05_,d06_,d07_,d08_,d09_,d10_,d11_,d12_,d24_,d36_,d48_"
   ]
  },
  {
   "cell_type": "code",
   "execution_count": 144,
   "metadata": {},
   "outputs": [],
   "source": [
    "elegiveis_ = pedidos_.loc[(pedidos_['DATA_PEDIDO'] >= pedidos_['d12_']) & (pedidos_['DATA_PEDIDO'] < pedidos_['d_1']) & (pedidos_['VALOR'] > 0) & (pedidos_['SG_FIL'] != 'SLD')]"
   ]
  },
  {
   "cell_type": "code",
   "execution_count": 145,
   "metadata": {},
   "outputs": [],
   "source": [
    "var_30dias_ = elegiveis_.loc[(elegiveis_['DATA_PEDIDO'] >= elegiveis_['d01_']) & (elegiveis_['DATA_PEDIDO'] < elegiveis_['d_1']) & (elegiveis_['VALOR'] > 0)]\n",
    "var_30dias_ = var_30dias_[['PK_ID_PESSOA','ID_PEDIDO_GERADO','VALOR']]\n",
    "var_30dias__valor = var_30dias_.groupby(['PK_ID_PESSOA'], as_index=False)['VALOR'].sum()\n",
    "var_30dias__valor.rename(columns = {'VALOR': 'VALOR_30D'}, inplace = True)\n",
    "var_30dias__pedidos = var_30dias_.groupby(['PK_ID_PESSOA','ID_PEDIDO_GERADO'], as_index=False)['VALOR'].count()\n",
    "var_30dias__pedidos = var_30dias__pedidos.groupby(['PK_ID_PESSOA'], as_index=False)['ID_PEDIDO_GERADO'].count()\n",
    "var_30dias__pedidos.rename(columns = {'ID_PEDIDO_GERADO': 'QTDE_PEDIDOS_30D'}, inplace = True)\n",
    "var_30dias_itens_ = var_30dias_.groupby(['PK_ID_PESSOA'], as_index=False)['ID_PEDIDO_GERADO'].count()\n",
    "var_30dias_itens_.rename(columns = {'ID_PEDIDO_GERADO': 'QTDE_ITENS_30D'}, inplace = True)\n",
    "\n",
    "var_60dias_ = elegiveis_.loc[(elegiveis_['DATA_PEDIDO'] >= elegiveis_['d02_']) & (elegiveis_['DATA_PEDIDO'] < elegiveis_['d_1']) & (elegiveis_['VALOR'] > 0)]\n",
    "var_60dias_ = var_60dias_[['PK_ID_PESSOA','ID_PEDIDO_GERADO','VALOR']]\n",
    "var_60dias__valor = var_60dias_.groupby(['PK_ID_PESSOA'], as_index=False)['VALOR'].sum()\n",
    "var_60dias__valor.rename(columns = {'VALOR': 'VALOR_60D'}, inplace = True)\n",
    "var_60dias__pedidos = var_60dias_.groupby(['PK_ID_PESSOA','ID_PEDIDO_GERADO'], as_index=False)['VALOR'].count()\n",
    "var_60dias__pedidos = var_60dias__pedidos.groupby(['PK_ID_PESSOA'], as_index=False)['ID_PEDIDO_GERADO'].count()\n",
    "var_60dias__pedidos.rename(columns = {'ID_PEDIDO_GERADO': 'QTDE_PEDIDOS_60D'}, inplace = True)\n",
    "var_60dias_itens_ = var_60dias_.groupby(['PK_ID_PESSOA'], as_index=False)['ID_PEDIDO_GERADO'].count()\n",
    "var_60dias_itens_.rename(columns = {'ID_PEDIDO_GERADO': 'QTDE_ITENS_60D'}, inplace = True)\n",
    "\n",
    "var_90dias_ = elegiveis_.loc[(elegiveis_['DATA_PEDIDO'] >= elegiveis_['d03_']) & (elegiveis_['DATA_PEDIDO'] < elegiveis_['d_1']) & (elegiveis_['VALOR'] > 0)]\n",
    "var_90dias_ = var_90dias_[['PK_ID_PESSOA','ID_PEDIDO_GERADO','VALOR']]\n",
    "var_90dias__valor = var_90dias_.groupby(['PK_ID_PESSOA'], as_index=False)['VALOR'].sum()\n",
    "var_90dias__valor.rename(columns = {'VALOR': 'VALOR_90D'}, inplace = True)\n",
    "var_90dias__pedidos = var_90dias_.groupby(['PK_ID_PESSOA','ID_PEDIDO_GERADO'], as_index=False)['VALOR'].count()\n",
    "var_90dias__pedidos = var_90dias__pedidos.groupby(['PK_ID_PESSOA'], as_index=False)['ID_PEDIDO_GERADO'].count()\n",
    "var_90dias__pedidos.rename(columns = {'ID_PEDIDO_GERADO': 'QTDE_PEDIDOS_90D'}, inplace = True)\n",
    "var_90dias_itens_ = var_90dias_.groupby(['PK_ID_PESSOA'], as_index=False)['ID_PEDIDO_GERADO'].count()\n",
    "var_90dias_itens_.rename(columns = {'ID_PEDIDO_GERADO': 'QTDE_ITENS_90D'}, inplace = True)\n",
    "\n",
    "var_120dias_ = elegiveis_.loc[(elegiveis_['DATA_PEDIDO'] >= elegiveis_['d04_']) & (elegiveis_['DATA_PEDIDO'] < elegiveis_['d_1']) & (elegiveis_['VALOR'] > 0)]\n",
    "var_120dias_ = var_120dias_[['PK_ID_PESSOA','ID_PEDIDO_GERADO','VALOR']]\n",
    "var_120dias__valor = var_120dias_.groupby(['PK_ID_PESSOA'], as_index=False)['VALOR'].sum()\n",
    "var_120dias__valor.rename(columns = {'VALOR': 'VALOR_120D'}, inplace = True)\n",
    "var_120dias__pedidos = var_120dias_.groupby(['PK_ID_PESSOA','ID_PEDIDO_GERADO'], as_index=False)['VALOR'].count()\n",
    "var_120dias__pedidos = var_120dias__pedidos.groupby(['PK_ID_PESSOA'], as_index=False)['ID_PEDIDO_GERADO'].count()\n",
    "var_120dias__pedidos.rename(columns = {'ID_PEDIDO_GERADO': 'QTDE_PEDIDOS_120D'}, inplace = True)\n",
    "var_120dias_itens_ = var_120dias_.groupby(['PK_ID_PESSOA'], as_index=False)['ID_PEDIDO_GERADO'].count()\n",
    "var_120dias_itens_.rename(columns = {'ID_PEDIDO_GERADO': 'QTDE_ITENS_120D'}, inplace = True)\n",
    "\n",
    "var_150dias_ = elegiveis_.loc[(elegiveis_['DATA_PEDIDO'] >= elegiveis_['d05_']) & (elegiveis_['DATA_PEDIDO'] < elegiveis_['d_1']) & (elegiveis_['VALOR'] > 0)]\n",
    "var_150dias_ = var_150dias_[['PK_ID_PESSOA','ID_PEDIDO_GERADO','VALOR']]\n",
    "var_150dias__valor = var_150dias_.groupby(['PK_ID_PESSOA'], as_index=False)['VALOR'].sum()\n",
    "var_150dias__valor.rename(columns = {'VALOR': 'VALOR_150D'}, inplace = True)\n",
    "var_150dias__pedidos = var_150dias_.groupby(['PK_ID_PESSOA','ID_PEDIDO_GERADO'], as_index=False)['VALOR'].count()\n",
    "var_150dias__pedidos = var_150dias__pedidos.groupby(['PK_ID_PESSOA'], as_index=False)['ID_PEDIDO_GERADO'].count()\n",
    "var_150dias__pedidos.rename(columns = {'ID_PEDIDO_GERADO': 'QTDE_PEDIDOS_150D'}, inplace = True)\n",
    "var_150dias_itens_ = var_150dias_.groupby(['PK_ID_PESSOA'], as_index=False)['ID_PEDIDO_GERADO'].count()\n",
    "var_150dias_itens_.rename(columns = {'ID_PEDIDO_GERADO': 'QTDE_ITENS_150D'}, inplace = True)\n",
    "\n",
    "var_180dias_ = elegiveis_.loc[(elegiveis_['DATA_PEDIDO'] >= elegiveis_['d06_']) & (elegiveis_['DATA_PEDIDO'] < elegiveis_['d_1']) & (elegiveis_['VALOR'] > 0)]\n",
    "var_180dias_ = var_180dias_[['PK_ID_PESSOA','ID_PEDIDO_GERADO','VALOR']]\n",
    "var_180dias__valor = var_180dias_.groupby(['PK_ID_PESSOA'], as_index=False)['VALOR'].sum()\n",
    "var_180dias__valor.rename(columns = {'VALOR': 'VALOR_180D'}, inplace = True)\n",
    "var_180dias__pedidos = var_180dias_.groupby(['PK_ID_PESSOA','ID_PEDIDO_GERADO'], as_index=False)['VALOR'].count()\n",
    "var_180dias__pedidos = var_180dias__pedidos.groupby(['PK_ID_PESSOA'], as_index=False)['ID_PEDIDO_GERADO'].count()\n",
    "var_180dias__pedidos.rename(columns = {'ID_PEDIDO_GERADO': 'QTDE_PEDIDOS_180D'}, inplace = True)\n",
    "var_180dias_itens_ = var_180dias_.groupby(['PK_ID_PESSOA'], as_index=False)['ID_PEDIDO_GERADO'].count()\n",
    "var_180dias_itens_.rename(columns = {'ID_PEDIDO_GERADO': 'QTDE_ITENS_180D'}, inplace = True)\n",
    "\n",
    "var_270dias_ = elegiveis_.loc[(elegiveis_['DATA_PEDIDO'] >= elegiveis_['d09_']) & (elegiveis_['DATA_PEDIDO'] < elegiveis_['d_1']) & (elegiveis_['VALOR'] > 0)]\n",
    "var_270dias_ = var_270dias_[['PK_ID_PESSOA','ID_PEDIDO_GERADO','VALOR']]\n",
    "var_270dias__valor = var_270dias_.groupby(['PK_ID_PESSOA'], as_index=False)['VALOR'].sum()\n",
    "var_270dias__valor.rename(columns = {'VALOR': 'VALOR_270D'}, inplace = True)\n",
    "var_270dias__pedidos = var_270dias_.groupby(['PK_ID_PESSOA','ID_PEDIDO_GERADO'], as_index=False)['VALOR'].count()\n",
    "var_270dias__pedidos = var_270dias__pedidos.groupby(['PK_ID_PESSOA'], as_index=False)['ID_PEDIDO_GERADO'].count()\n",
    "var_270dias__pedidos.rename(columns = {'ID_PEDIDO_GERADO': 'QTDE_PEDIDOS_270D'}, inplace = True)\n",
    "var_270dias_itens_ = var_270dias_.groupby(['PK_ID_PESSOA'], as_index=False)['ID_PEDIDO_GERADO'].count()\n",
    "var_270dias_itens_.rename(columns = {'ID_PEDIDO_GERADO': 'QTDE_ITENS_270D'}, inplace = True)\n",
    "\n",
    "var_360dias_ = elegiveis_.loc[(elegiveis_['DATA_PEDIDO'] >= elegiveis_['d12_']) & (elegiveis_['DATA_PEDIDO'] < elegiveis_['d_1']) & (elegiveis_['VALOR'] > 0)]\n",
    "var_360dias_ = var_360dias_[['PK_ID_PESSOA','ID_PEDIDO_GERADO','VALOR']]\n",
    "var_360dias__valor = var_360dias_.groupby(['PK_ID_PESSOA'], as_index=False)['VALOR'].sum()\n",
    "var_360dias__valor.rename(columns = {'VALOR': 'VALOR_360D'}, inplace = True)\n",
    "var_360dias__pedidos = var_360dias_.groupby(['PK_ID_PESSOA','ID_PEDIDO_GERADO'], as_index=False)['VALOR'].count()\n",
    "var_360dias__pedidos = var_360dias__pedidos.groupby(['PK_ID_PESSOA'], as_index=False)['ID_PEDIDO_GERADO'].count()\n",
    "var_360dias__pedidos.rename(columns = {'ID_PEDIDO_GERADO': 'QTDE_PEDIDOS_360D'}, inplace = True)\n",
    "var_360dias_itens_ = var_360dias_.groupby(['PK_ID_PESSOA'], as_index=False)['ID_PEDIDO_GERADO'].count()\n",
    "var_360dias_itens_.rename(columns = {'ID_PEDIDO_GERADO': 'QTDE_ITENS_360D'}, inplace = True)\n",
    "\n",
    "var_720dias_ = elegiveis_.loc[(elegiveis_['DATA_PEDIDO'] >= elegiveis_['d24_']) & (elegiveis_['DATA_PEDIDO'] < elegiveis_['d_1']) & (elegiveis_['VALOR'] > 0)]\n",
    "var_720dias_ = var_720dias_[['PK_ID_PESSOA','ID_PEDIDO_GERADO','VALOR']]\n",
    "var_720dias__valor = var_720dias_.groupby(['PK_ID_PESSOA'], as_index=False)['VALOR'].sum()\n",
    "var_720dias__valor.rename(columns = {'VALOR': 'VALOR_720D'}, inplace = True)\n",
    "var_720dias__pedidos = var_720dias_.groupby(['PK_ID_PESSOA','ID_PEDIDO_GERADO'], as_index=False)['VALOR'].count()\n",
    "var_720dias__pedidos = var_720dias__pedidos.groupby(['PK_ID_PESSOA'], as_index=False)['ID_PEDIDO_GERADO'].count()\n",
    "var_720dias__pedidos.rename(columns = {'ID_PEDIDO_GERADO': 'QTDE_PEDIDOS_720D'}, inplace = True)\n",
    "var_720dias_itens_ = var_720dias_.groupby(['PK_ID_PESSOA'], as_index=False)['ID_PEDIDO_GERADO'].count()\n",
    "var_720dias_itens_.rename(columns = {'ID_PEDIDO_GERADO': 'QTDE_ITENS_720D'}, inplace = True)\n",
    "\n",
    "var_1080dias_ = elegiveis_.loc[(elegiveis_['DATA_PEDIDO'] >= elegiveis_['d36_']) & (elegiveis_['DATA_PEDIDO'] < elegiveis_['d_1']) & (elegiveis_['VALOR'] > 0)]\n",
    "var_1080dias_ = var_1080dias_[['PK_ID_PESSOA','ID_PEDIDO_GERADO','VALOR']]\n",
    "var_1080dias__valor = var_1080dias_.groupby(['PK_ID_PESSOA'], as_index=False)['VALOR'].sum()\n",
    "var_1080dias__valor.rename(columns = {'VALOR': 'VALOR_1080D'}, inplace = True)\n",
    "var_1080dias__pedidos = var_1080dias_.groupby(['PK_ID_PESSOA','ID_PEDIDO_GERADO'], as_index=False)['VALOR'].count()\n",
    "var_1080dias__pedidos = var_1080dias__pedidos.groupby(['PK_ID_PESSOA'], as_index=False)['ID_PEDIDO_GERADO'].count()\n",
    "var_1080dias__pedidos.rename(columns = {'ID_PEDIDO_GERADO': 'QTDE_PEDIDOS_1080D'}, inplace = True)\n",
    "var_1080dias_itens_ = var_1080dias_.groupby(['PK_ID_PESSOA'], as_index=False)['ID_PEDIDO_GERADO'].count()\n",
    "var_1080dias_itens_.rename(columns = {'ID_PEDIDO_GERADO': 'QTDE_ITENS_1080D'}, inplace = True)\n",
    "\n",
    "var_1440dias_ = elegiveis_.loc[(elegiveis_['DATA_PEDIDO'] >= elegiveis_['d48_']) & (elegiveis_['DATA_PEDIDO'] < elegiveis_['d_1']) & (elegiveis_['VALOR'] > 0)]\n",
    "var_1440dias_ = var_1440dias_[['PK_ID_PESSOA','ID_PEDIDO_GERADO','VALOR']]\n",
    "var_1440dias__valor = var_1440dias_.groupby(['PK_ID_PESSOA'], as_index=False)['VALOR'].sum()\n",
    "var_1440dias__valor.rename(columns = {'VALOR': 'VALOR_1440D'}, inplace = True)\n",
    "var_1440dias__pedidos = var_1440dias_.groupby(['PK_ID_PESSOA','ID_PEDIDO_GERADO'], as_index=False)['VALOR'].count()\n",
    "var_1440dias__pedidos = var_1440dias__pedidos.groupby(['PK_ID_PESSOA'], as_index=False)['ID_PEDIDO_GERADO'].count()\n",
    "var_1440dias__pedidos.rename(columns = {'ID_PEDIDO_GERADO': 'QTDE_PEDIDOS_1440D'}, inplace = True)\n",
    "var_1440dias_itens_ = var_1440dias_.groupby(['PK_ID_PESSOA'], as_index=False)['ID_PEDIDO_GERADO'].count()\n",
    "var_1440dias_itens_.rename(columns = {'ID_PEDIDO_GERADO': 'QTDE_ITENS_1440D'}, inplace = True)"
   ]
  },
  {
   "cell_type": "code",
   "execution_count": 146,
   "metadata": {},
   "outputs": [],
   "source": [
    "del var_30dias_, var_60dias_, var_90dias_, var_120dias_, var_150dias_, var_180dias_, var_270dias_, var_360dias_, var_720dias_, var_1080dias_, var_1440dias_"
   ]
  },
  {
   "cell_type": "code",
   "execution_count": 147,
   "metadata": {},
   "outputs": [],
   "source": [
    "elegiveis_ = pd.merge(elegiveis_, produtos_, on = 'NK_ID_PROD', how = 'left', sort = True)"
   ]
  },
  {
   "cell_type": "code",
   "execution_count": 148,
   "metadata": {},
   "outputs": [],
   "source": [
    "elegiveis_ = pd.merge(elegiveis_, filial_, on = 'CD_FIL', how = 'left', sort = True)"
   ]
  },
  {
   "cell_type": "code",
   "execution_count": 199,
   "metadata": {},
   "outputs": [],
   "source": [
    "elegiveis__obj = elegiveis_.drop(columns={'PK_DOC','ID_PEDIDO_GERADO','DATA_PEDIDO','VALOR','CD_FIL','NK_ID_PROD','NM_CIDADE',\n",
    "                                         'CD_DIV_x','CD_GEP_x','CD_FAM_x','NM_PROD','CD_DIV_y','NM_DIV_y','CD_GEP_y',\n",
    "                                         'CD_FAM_y','NM_FAM','SG_FIL_x','NM_FIL','DT_INAUGURACAO','DT_ENCERRAMENTO', 'SG_ESTADO',\n",
    "                                         'd_1','d48_','d36_','d24_','d12_','d11_','d10_','d09_','d08_','d07_','d06_','d05_','d04_','d03_','d02_','d01_'})"
   ]
  },
  {
   "cell_type": "code",
   "execution_count": 200,
   "metadata": {},
   "outputs": [],
   "source": [
    "elegiveis__obj.rename(columns = {'NM_DIV_x':'NM_DIV'}, inplace = True)\n",
    "elegiveis__obj.rename(columns = {'SG_FIL_y':'SG_FIL'}, inplace = True)\n",
    "\n",
    "elegiveis__dummies1 = pd.get_dummies(data = elegiveis__obj,columns={'SG_PORT'})\n",
    "elegiveis__dummies2 = pd.get_dummies(data = elegiveis__obj,columns={'REGIAO'})\n",
    "elegiveis__dummies3 = pd.get_dummies(data = elegiveis__obj,columns={'SG_FIL'})\n",
    "elegiveis__dummies4 = pd.get_dummies(data = elegiveis__obj,columns={'DS_GEP'})\n",
    "elegiveis__dummies5 = pd.get_dummies(data = elegiveis__obj,columns={'NM_DIV'})"
   ]
  },
  {
   "cell_type": "code",
   "execution_count": 201,
   "metadata": {},
   "outputs": [],
   "source": [
    "elegiveis__dummies1.drop(columns = {'NM_DIV','DS_GEP','SG_FIL','REGIAO'}, inplace = True)\n",
    "elegiveis__dummies1 = elegiveis__dummies1.groupby(['PK_ID_PESSOA'], as_index=False).max()\n",
    "elegiveis__dummies1['TT_PORT'] = (elegiveis__dummies1.sum (axis=1) - elegiveis__dummies1['PK_ID_PESSOA'])"
   ]
  },
  {
   "cell_type": "code",
   "execution_count": 202,
   "metadata": {},
   "outputs": [],
   "source": [
    "elegiveis__dummies2.drop(columns = {'NM_DIV','DS_GEP','SG_FIL','SG_PORT'}, inplace = True)\n",
    "elegiveis__dummies2 = elegiveis__dummies2.groupby(['PK_ID_PESSOA'], as_index=False).max()\n",
    "elegiveis__dummies2['TT_REGIOES'] = (elegiveis__dummies2.sum (axis=1) - elegiveis__dummies2['PK_ID_PESSOA'])"
   ]
  },
  {
   "cell_type": "code",
   "execution_count": 203,
   "metadata": {},
   "outputs": [],
   "source": [
    "elegiveis__dummies3.drop(columns = {'NM_DIV','DS_GEP','REGIAO','SG_PORT'}, inplace = True)\n",
    "elegiveis__dummies3 = elegiveis__dummies3.groupby(['PK_ID_PESSOA'], as_index=False).max()\n",
    "elegiveis__dummies3['TT_FILIAIS'] = (elegiveis__dummies3.sum (axis=1) - elegiveis__dummies3['PK_ID_PESSOA'])"
   ]
  },
  {
   "cell_type": "code",
   "execution_count": 204,
   "metadata": {},
   "outputs": [],
   "source": [
    "elegiveis__dummies4.drop(columns = {'NM_DIV','SG_FIL','REGIAO','SG_PORT'}, inplace = True)\n",
    "elegiveis__dummies4 = elegiveis__dummies4.groupby(['PK_ID_PESSOA'], as_index=False).max()\n",
    "elegiveis__dummies4['TT_GEP'] = (elegiveis__dummies4.sum (axis=1) - elegiveis__dummies4['PK_ID_PESSOA'])"
   ]
  },
  {
   "cell_type": "code",
   "execution_count": 205,
   "metadata": {},
   "outputs": [],
   "source": [
    "elegiveis__dummies5.drop(columns = {'DS_GEP','SG_FIL','REGIAO','SG_PORT'}, inplace = True)\n",
    "elegiveis__dummies5 = elegiveis__dummies5.groupby(['PK_ID_PESSOA'], as_index=False).max()"
   ]
  },
  {
   "cell_type": "code",
   "execution_count": 206,
   "metadata": {},
   "outputs": [],
   "source": [
    "elegiveis__id = elegiveis_[['PK_ID_PESSOA']].drop_duplicates().reset_index(drop=True)"
   ]
  },
  {
   "cell_type": "code",
   "execution_count": 207,
   "metadata": {},
   "outputs": [],
   "source": [
    "elegiveis__dummies = pd.merge(elegiveis__id, elegiveis__dummies1, on = 'PK_ID_PESSOA', how = 'left', sort = True)"
   ]
  },
  {
   "cell_type": "code",
   "execution_count": 208,
   "metadata": {},
   "outputs": [],
   "source": [
    "elegiveis__dummies = pd.merge(elegiveis__dummies, elegiveis__dummies2, on = 'PK_ID_PESSOA', how = 'left', sort = True)"
   ]
  },
  {
   "cell_type": "code",
   "execution_count": 209,
   "metadata": {},
   "outputs": [],
   "source": [
    "elegiveis__dummies = pd.merge(elegiveis__dummies, elegiveis__dummies3, on = 'PK_ID_PESSOA', how = 'left', sort = True)"
   ]
  },
  {
   "cell_type": "code",
   "execution_count": 210,
   "metadata": {},
   "outputs": [],
   "source": [
    "elegiveis__dummies = pd.merge(elegiveis__dummies, elegiveis__dummies4, on = 'PK_ID_PESSOA', how = 'left', sort = True)"
   ]
  },
  {
   "cell_type": "code",
   "execution_count": 211,
   "metadata": {},
   "outputs": [],
   "source": [
    "elegiveis__dummies = pd.merge(elegiveis__dummies, elegiveis__dummies5, on = 'PK_ID_PESSOA', how = 'left', sort = True)"
   ]
  },
  {
   "cell_type": "code",
   "execution_count": 212,
   "metadata": {},
   "outputs": [],
   "source": [
    "del elegiveis__dummies1,elegiveis__dummies2,elegiveis__dummies3,elegiveis__dummies4,elegiveis__dummies5"
   ]
  },
  {
   "cell_type": "code",
   "execution_count": 213,
   "metadata": {},
   "outputs": [],
   "source": [
    "pessoas_ = pd.merge(elegiveis__id, pessoas_, on = 'PK_ID_PESSOA', how = 'left', sort = True)"
   ]
  },
  {
   "cell_type": "code",
   "execution_count": 214,
   "metadata": {},
   "outputs": [],
   "source": [
    "pessoas__dummies = pd.get_dummies(data = pessoas_,columns={'DS_SEGMENTO','TIPO_LOJA','IN_SEXO'})"
   ]
  },
  {
   "cell_type": "code",
   "execution_count": 215,
   "metadata": {},
   "outputs": [],
   "source": [
    "lista_ = ['DT_CAD','d_1']\n",
    "tp__cadastro = pessoas_.groupby (['PK_ID_PESSOA'], as_index=False)[lista_].min()\n",
    "tp__cadastro['TP_CADASTRO'] = abs (tp__cadastro['d_1'] - tp__cadastro['DT_CAD'])\n",
    "tp__cadastro.drop(columns = {'d_1','DT_CAD'},inplace = True)\n",
    "tp__cadastro.TP_CADASTRO = tp__cadastro.TP_CADASTRO.dt.days\n",
    "del lista_"
   ]
  },
  {
   "cell_type": "code",
   "execution_count": 216,
   "metadata": {},
   "outputs": [],
   "source": [
    "lista_ = ['DATA_PEDIDO','d_1']\n",
    "ult__compra = elegiveis_.groupby(['PK_ID_PESSOA'], as_index=False)[lista_].max()\n",
    "ult__compra['TP_ULT_COMPRA'] = abs (ult__compra['d_1'] - ult__compra['DATA_PEDIDO'])\n",
    "ult__compra.drop(columns = {'d_1','DATA_PEDIDO'},inplace = True)\n",
    "del lista_"
   ]
  },
  {
   "cell_type": "code",
   "execution_count": 217,
   "metadata": {},
   "outputs": [],
   "source": [
    "base__final = pd.merge(elegiveis__id, var_30dias__valor, on = 'PK_ID_PESSOA', how = 'left', sort = True)\n",
    "base__final = pd.merge(base__final, var_30dias__pedidos, on = 'PK_ID_PESSOA', how = 'left', sort = True)\n",
    "base__final = pd.merge(base__final, var_30dias_itens_, on = 'PK_ID_PESSOA', how = 'left', sort = True)\n",
    "\n",
    "base__final = pd.merge(base__final, var_60dias__valor, on = 'PK_ID_PESSOA', how = 'left', sort = True)\n",
    "base__final = pd.merge(base__final, var_60dias__pedidos, on = 'PK_ID_PESSOA', how = 'left', sort = True)\n",
    "base__final = pd.merge(base__final, var_60dias_itens_, on = 'PK_ID_PESSOA', how = 'left', sort = True)\n",
    "\n",
    "base__final = pd.merge(base__final, var_90dias__valor, on = 'PK_ID_PESSOA', how = 'left', sort = True)\n",
    "base__final = pd.merge(base__final, var_90dias__pedidos, on = 'PK_ID_PESSOA', how = 'left', sort = True)\n",
    "base__final = pd.merge(base__final, var_90dias_itens_, on = 'PK_ID_PESSOA', how = 'left', sort = True)\n",
    "\n",
    "base__final = pd.merge(base__final, var_120dias__valor, on = 'PK_ID_PESSOA', how = 'left', sort = True)\n",
    "base__final = pd.merge(base__final, var_120dias__pedidos, on = 'PK_ID_PESSOA', how = 'left', sort = True)\n",
    "base__final = pd.merge(base__final, var_120dias_itens_, on = 'PK_ID_PESSOA', how = 'left', sort = True)\n",
    "\n",
    "base__final = pd.merge(base__final, var_150dias__valor, on = 'PK_ID_PESSOA', how = 'left', sort = True)\n",
    "base__final = pd.merge(base__final, var_150dias__pedidos, on = 'PK_ID_PESSOA', how = 'left', sort = True)\n",
    "base__final = pd.merge(base__final, var_150dias_itens_, on = 'PK_ID_PESSOA', how = 'left', sort = True)\n",
    "\n",
    "base__final = pd.merge(base__final, var_180dias__valor, on = 'PK_ID_PESSOA', how = 'left', sort = True)\n",
    "base__final = pd.merge(base__final, var_180dias__pedidos, on = 'PK_ID_PESSOA', how = 'left', sort = True)\n",
    "base__final = pd.merge(base__final, var_180dias_itens_, on = 'PK_ID_PESSOA', how = 'left', sort = True)\n",
    "\n",
    "base__final = pd.merge(base__final, var_270dias__valor, on = 'PK_ID_PESSOA', how = 'left', sort = True)\n",
    "base__final = pd.merge(base__final, var_270dias__pedidos, on = 'PK_ID_PESSOA', how = 'left', sort = True)\n",
    "base__final = pd.merge(base__final, var_270dias_itens_, on = 'PK_ID_PESSOA', how = 'left', sort = True)\n",
    "\n",
    "base__final = pd.merge(base__final, var_360dias__valor, on = 'PK_ID_PESSOA', how = 'left', sort = True)\n",
    "base__final = pd.merge(base__final, var_360dias__pedidos, on = 'PK_ID_PESSOA', how = 'left', sort = True)\n",
    "base__final = pd.merge(base__final, var_360dias_itens_, on = 'PK_ID_PESSOA', how = 'left', sort = True)\n",
    "\n",
    "base__final = pd.merge(base__final, var_720dias__valor, on = 'PK_ID_PESSOA', how = 'left', sort = True)\n",
    "base__final = pd.merge(base__final, var_720dias__pedidos, on = 'PK_ID_PESSOA', how = 'left', sort = True)\n",
    "base__final = pd.merge(base__final, var_720dias_itens_, on = 'PK_ID_PESSOA', how = 'left', sort = True)\n",
    "\n",
    "base__final = pd.merge(base__final, var_1080dias__valor, on = 'PK_ID_PESSOA', how = 'left', sort = True)\n",
    "base__final = pd.merge(base__final, var_1080dias__pedidos, on = 'PK_ID_PESSOA', how = 'left', sort = True)\n",
    "base__final = pd.merge(base__final, var_1080dias_itens_, on = 'PK_ID_PESSOA', how = 'left', sort = True)\n",
    "\n",
    "base__final = pd.merge(base__final, var_1440dias__valor, on = 'PK_ID_PESSOA', how = 'left', sort = True)\n",
    "base__final = pd.merge(base__final, var_1440dias__pedidos, on = 'PK_ID_PESSOA', how = 'left', sort = True)\n",
    "base__final = pd.merge(base__final, var_1440dias_itens_, on = 'PK_ID_PESSOA', how = 'left', sort = True)"
   ]
  },
  {
   "cell_type": "code",
   "execution_count": 218,
   "metadata": {},
   "outputs": [],
   "source": [
    "base__final = pd.merge(base__final, elegiveis__dummies, on = 'PK_ID_PESSOA', how = 'left', sort = True)"
   ]
  },
  {
   "cell_type": "code",
   "execution_count": 219,
   "metadata": {},
   "outputs": [],
   "source": [
    "base__final = pd.merge(base__final, pessoas__dummies, on = 'PK_ID_PESSOA', how = 'left', sort = True)"
   ]
  },
  {
   "cell_type": "code",
   "execution_count": 220,
   "metadata": {},
   "outputs": [],
   "source": [
    "base__final = base__final.replace(np.nan,0)"
   ]
  },
  {
   "cell_type": "code",
   "execution_count": 221,
   "metadata": {},
   "outputs": [],
   "source": [
    "base__final = pd.merge(base__final, ult__compra, on = 'PK_ID_PESSOA', how = 'left', sort = True)"
   ]
  },
  {
   "cell_type": "code",
   "execution_count": 222,
   "metadata": {},
   "outputs": [],
   "source": [
    "base__final.TP_ULT_COMPRA = base__final.TP_ULT_COMPRA.dt.days"
   ]
  },
  {
   "cell_type": "code",
   "execution_count": 223,
   "metadata": {},
   "outputs": [],
   "source": [
    "base__final = pd.merge(base__final, tp__cadastro, on = 'PK_ID_PESSOA', how = 'left', sort = True)"
   ]
  },
  {
   "cell_type": "code",
   "execution_count": 224,
   "metadata": {},
   "outputs": [],
   "source": [
    "base__final.dropna(inplace=True)"
   ]
  },
  {
   "cell_type": "code",
   "execution_count": 227,
   "metadata": {},
   "outputs": [
    {
     "name": "stdout",
     "output_type": "stream",
     "text": [
      "<class 'pandas.core.frame.DataFrame'>\n",
      "Int64Index: 1347986 entries, 4 to 1380793\n",
      "Columns: 167 entries, PK_ID_PESSOA to TP_CADASTRO\n",
      "dtypes: float64(28), int64(14), uint8(125)\n",
      "memory usage: 602.9 MB\n"
     ]
    }
   ],
   "source": [
    "base__final.info()"
   ]
  },
  {
   "cell_type": "code",
   "execution_count": 228,
   "metadata": {},
   "outputs": [],
   "source": [
    "df_ = pd.DataFrame(data = base__final, columns = lista)"
   ]
  },
  {
   "cell_type": "code",
   "execution_count": 229,
   "metadata": {},
   "outputs": [],
   "source": [
    "if models.Method[0] == 'Random Forest':\n",
    "    randomforest2 = best_model_rf\n",
    "    randomforest2.fit(x_train, y_train)\n",
    "    y_pred2 = randomforest2.predict(df_)\n",
    "    y_pred_prob2 = randomforest2.predict_proba(df_)\n",
    "elif models.Method[0] == 'Gradiente Booster':\n",
    "    gbk2 = best_model_gbk\n",
    "    gbk2.fit(x_train, y_train)\n",
    "    y_pred2 = gbk2.predict(df_)\n",
    "    y_pred_prob2 = gbk2.predict_proba(df_)\n",
    "elif models.Method[0] == 'XGBoost':\n",
    "    xgb2 = best_model_xgb\n",
    "    xgb2.fit(x_train, y_train)\n",
    "    y_pred2 = xgb2.predict(df_)\n",
    "    y_pred_prob2 = xgb2.predict_proba(df_)\n",
    "elif models.Method[0] == 'Adaboost':\n",
    "    boost2 = best_model_boost\n",
    "    boost2.fit(x_train, y_train)\n",
    "    y_pred2 = boost2.predict(df_)\n",
    "    y_pred_prob2 = boost2.predict_proba(df_)\n",
    "elif models.Method[0] == 'Decision Tree':\n",
    "    decisiontree2 = best_model_dt\n",
    "    decisiontree2.fit(x_train, y_train)\n",
    "    y_pred2 = decisiontree2.predict(df_)\n",
    "    y_pred_prob2 = decisiontree2.predict_proba(df_)\n",
    "elif models.Method[0] == 'Logistic Regression':\n",
    "    logreg2 = best_model_lr\n",
    "    logreg2.fit(x_train, y_train)\n",
    "    y_pred2 = logreg2.predict(df_)\n",
    "    y_pred_prob2 = logreg2.predict_proba(df_)\n",
    "elif models.Method[0] == 'KNN':\n",
    "    knn2 = best_model_knn\n",
    "    knn2.fit(x_train, y_train)\n",
    "    y_pred2 = knn2.predict(df_)\n",
    "    y_pred_prob2 = knn2.predict_proba(df_)     "
   ]
  },
  {
   "cell_type": "markdown",
   "metadata": {},
   "source": [
    "# Acrescenta a Segmentação ao Arquivo de Propensão"
   ]
  },
  {
   "cell_type": "code",
   "execution_count": 230,
   "metadata": {},
   "outputs": [
    {
     "data": {
      "text/html": [
       "<div>\n",
       "<style scoped>\n",
       "    .dataframe tbody tr th:only-of-type {\n",
       "        vertical-align: middle;\n",
       "    }\n",
       "\n",
       "    .dataframe tbody tr th {\n",
       "        vertical-align: top;\n",
       "    }\n",
       "\n",
       "    .dataframe thead th {\n",
       "        text-align: right;\n",
       "    }\n",
       "</style>\n",
       "<table border=\"1\" class=\"dataframe\">\n",
       "  <thead>\n",
       "    <tr style=\"text-align: right;\">\n",
       "      <th></th>\n",
       "      <th>PK_ID_PESSOA</th>\n",
       "      <th>SEGMENTO</th>\n",
       "    </tr>\n",
       "  </thead>\n",
       "  <tbody>\n",
       "    <tr>\n",
       "      <th>0</th>\n",
       "      <td>4</td>\n",
       "      <td>P3</td>\n",
       "    </tr>\n",
       "    <tr>\n",
       "      <th>1</th>\n",
       "      <td>5</td>\n",
       "      <td>P2/P3</td>\n",
       "    </tr>\n",
       "    <tr>\n",
       "      <th>2</th>\n",
       "      <td>7</td>\n",
       "      <td>P1</td>\n",
       "    </tr>\n",
       "    <tr>\n",
       "      <th>3</th>\n",
       "      <td>8</td>\n",
       "      <td>P3</td>\n",
       "    </tr>\n",
       "    <tr>\n",
       "      <th>4</th>\n",
       "      <td>14</td>\n",
       "      <td>P1/P3</td>\n",
       "    </tr>\n",
       "  </tbody>\n",
       "</table>\n",
       "</div>"
      ],
      "text/plain": [
       "   PK_ID_PESSOA SEGMENTO\n",
       "0             4       P3\n",
       "1             5    P2/P3\n",
       "2             7       P1\n",
       "3             8       P3\n",
       "4            14    P1/P3"
      ]
     },
     "execution_count": 230,
     "metadata": {},
     "output_type": "execute_result"
    }
   ],
   "source": [
    "segmenta = pd.read_csv ('Segmentacao_P1P2P3.csv')\n",
    "segmenta.head()"
   ]
  },
  {
   "cell_type": "code",
   "execution_count": 236,
   "metadata": {
    "scrolled": true
   },
   "outputs": [],
   "source": [
    "Modelo_Ativacao = pd.DataFrame({'PK_ID_PESSOA':base__final['PK_ID_PESSOA'],'PROBABILIDADE':y_pred_prob2[:,1]})"
   ]
  },
  {
   "cell_type": "code",
   "execution_count": 237,
   "metadata": {},
   "outputs": [],
   "source": [
    "Modelo_Ativacao['FX_PROBABILIDADE'] = pd.cut(Modelo_Ativacao.PROBABILIDADE, [-0.1,0.25,0.4,0.55,0.75,1.01], labels = ['1 - Não Utilizar','2 - Retorno Baixo','3 - Retorno Médio','4 - Retorno Alto','5 - Retorno Altíssimo'])"
   ]
  },
  {
   "cell_type": "code",
   "execution_count": 238,
   "metadata": {},
   "outputs": [],
   "source": [
    "Modelo_Ativacao = pd.merge (Modelo_Ativacao, segmenta, on = 'PK_ID_PESSOA', how = 'left', sort = True)"
   ]
  },
  {
   "cell_type": "code",
   "execution_count": 239,
   "metadata": {},
   "outputs": [],
   "source": [
    "Nao_Utilizar = Modelo_Ativacao.loc[(Modelo_Ativacao['FX_PROBABILIDADE'] == '1 - Não Utilizar')]\n",
    "Retorno_Baixo = Modelo_Ativacao.loc[(Modelo_Ativacao['FX_PROBABILIDADE'] == '2 - Retorno Baixo')]\n",
    "Retorno_Medio = Modelo_Ativacao.loc[(Modelo_Ativacao['FX_PROBABILIDADE'] == '3 - Retorno Médio')]\n",
    "Retorno_Alto = Modelo_Ativacao.loc[(Modelo_Ativacao['FX_PROBABILIDADE'] == '4 - Retorno Alto')]\n",
    "Retorno_Altissimo = Modelo_Ativacao.loc[(Modelo_Ativacao['FX_PROBABILIDADE'] == '5 - Retorno Altíssimo')]"
   ]
  },
  {
   "cell_type": "code",
   "execution_count": 240,
   "metadata": {},
   "outputs": [],
   "source": [
    "with pd.ExcelWriter('Modelo_Ativacao.xlsx') as writer:\n",
    "    Nao_Utilizar.to_excel(writer, sheet_name='Nao_Utilizar',index=False)\n",
    "    Retorno_Baixo.to_excel(writer, sheet_name='Retorno_Baixo',index=False)\n",
    "    Retorno_Medio.to_excel(writer, sheet_name='Retorno_Medio',index=False)\n",
    "    Retorno_Alto.to_excel(writer, sheet_name='Retorno_Alto',index=False)\n",
    "    Retorno_Altissimo.to_excel(writer, sheet_name='Retorno_Altissimo',index=False)"
   ]
  },
  {
   "cell_type": "markdown",
   "metadata": {},
   "source": [
    "Próximos passos para melhorarmos a assertividade do modelo - saber como faz para combinarmos variáveis, 2 a 2, 3 a 3, etc.... bora pesquisar..."
   ]
  },
  {
   "cell_type": "code",
   "execution_count": null,
   "metadata": {},
   "outputs": [],
   "source": []
  }
 ],
 "metadata": {
  "kernelspec": {
   "display_name": "Python 3",
   "language": "python",
   "name": "python3"
  },
  "language_info": {
   "codemirror_mode": {
    "name": "ipython",
    "version": 3
   },
   "file_extension": ".py",
   "mimetype": "text/x-python",
   "name": "python",
   "nbconvert_exporter": "python",
   "pygments_lexer": "ipython3",
   "version": "3.7.4"
  }
 },
 "nbformat": 4,
 "nbformat_minor": 2
}
